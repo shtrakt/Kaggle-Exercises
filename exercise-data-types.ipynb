{
 "cells": [
  {
   "cell_type": "markdown",
   "id": "95457af8",
   "metadata": {
    "papermill": {
     "duration": 0.005864,
     "end_time": "2023-06-14T12:08:55.755422",
     "exception": false,
     "start_time": "2023-06-14T12:08:55.749558",
     "status": "completed"
    },
    "tags": []
   },
   "source": [
    "**This notebook is an exercise in the [Intro to Programming](https://www.kaggle.com/learn/intro-to-programming) course.  You can reference the tutorial at [this link](https://www.kaggle.com/alexisbcook/data-types).**\n",
    "\n",
    "---\n"
   ]
  },
  {
   "cell_type": "markdown",
   "id": "fa1c6869",
   "metadata": {
    "papermill": {
     "duration": 0.004914,
     "end_time": "2023-06-14T12:08:55.765483",
     "exception": false,
     "start_time": "2023-06-14T12:08:55.760569",
     "status": "completed"
    },
    "tags": []
   },
   "source": [
    "In the tutorial, you learned about four different data types: floats, integers, strings, and booleans.  In this exercise, you'll experiment with them.\n",
    "\n",
    "# Set up the notebook\n",
    "\n",
    "Run the next code cell without changes to set up the notebook."
   ]
  },
  {
   "cell_type": "code",
   "execution_count": 1,
   "id": "545321e2",
   "metadata": {
    "execution": {
     "iopub.execute_input": "2023-06-14T12:08:55.778009Z",
     "iopub.status.busy": "2023-06-14T12:08:55.777394Z",
     "iopub.status.idle": "2023-06-14T12:08:55.829069Z",
     "shell.execute_reply": "2023-06-14T12:08:55.827835Z"
    },
    "papermill": {
     "duration": 0.060193,
     "end_time": "2023-06-14T12:08:55.831010",
     "exception": false,
     "start_time": "2023-06-14T12:08:55.770817",
     "status": "completed"
    },
    "tags": []
   },
   "outputs": [
    {
     "name": "stdout",
     "output_type": "stream",
     "text": [
      "Setup complete.\n"
     ]
    }
   ],
   "source": [
    "# Set up the exercise\n",
    "from learntools.core import binder\n",
    "binder.bind(globals())\n",
    "from learntools.intro_to_programming.ex3 import *\n",
    "print('Setup complete.')"
   ]
  },
  {
   "cell_type": "markdown",
   "id": "f3d847be",
   "metadata": {
    "papermill": {
     "duration": 0.004945,
     "end_time": "2023-06-14T12:08:55.841422",
     "exception": false,
     "start_time": "2023-06-14T12:08:55.836477",
     "status": "completed"
    },
    "tags": []
   },
   "source": [
    "# Question 1\n",
    "\n",
    "You have seen how to convert a float to an integer with the `int` function.  Try this out yourself by running the code cell below."
   ]
  },
  {
   "cell_type": "code",
   "execution_count": 2,
   "id": "ef31aafc",
   "metadata": {
    "execution": {
     "iopub.execute_input": "2023-06-14T12:08:55.855675Z",
     "iopub.status.busy": "2023-06-14T12:08:55.855257Z",
     "iopub.status.idle": "2023-06-14T12:08:55.861720Z",
     "shell.execute_reply": "2023-06-14T12:08:55.860590Z"
    },
    "papermill": {
     "duration": 0.0166,
     "end_time": "2023-06-14T12:08:55.863988",
     "exception": false,
     "start_time": "2023-06-14T12:08:55.847388",
     "status": "completed"
    },
    "tags": []
   },
   "outputs": [
    {
     "name": "stdout",
     "output_type": "stream",
     "text": [
      "1.0\n",
      "<class 'float'>\n",
      "1\n",
      "<class 'int'>\n"
     ]
    }
   ],
   "source": [
    "# Define a float\n",
    "y = 1.\n",
    "print(y)\n",
    "print(type(y))\n",
    "\n",
    "# Convert float to integer with the int function\n",
    "z = int(y)\n",
    "print(z)\n",
    "print(type(z))"
   ]
  },
  {
   "cell_type": "markdown",
   "id": "ce39e5e4",
   "metadata": {
    "papermill": {
     "duration": 0.005217,
     "end_time": "2023-06-14T12:08:55.875573",
     "exception": false,
     "start_time": "2023-06-14T12:08:55.870356",
     "status": "completed"
    },
    "tags": []
   },
   "source": [
    "In this case, the float you are using has no numbers after the decimal.  \n",
    "- But what happens when you try to convert a float with a fractional part to an integer?  \n",
    "- How does the outcome of the `int` function change for positive and negative numbers?\n",
    "\n",
    "Use the next code cell to investigate and answer these questions.  Feel free to add or remove any lines of code -- it is your workspace!"
   ]
  },
  {
   "cell_type": "code",
   "execution_count": 3,
   "id": "ce858a8c",
   "metadata": {
    "execution": {
     "iopub.execute_input": "2023-06-14T12:08:55.888566Z",
     "iopub.status.busy": "2023-06-14T12:08:55.887348Z",
     "iopub.status.idle": "2023-06-14T12:08:55.894026Z",
     "shell.execute_reply": "2023-06-14T12:08:55.892789Z"
    },
    "papermill": {
     "duration": 0.015166,
     "end_time": "2023-06-14T12:08:55.896049",
     "exception": false,
     "start_time": "2023-06-14T12:08:55.880883",
     "status": "completed"
    },
    "tags": []
   },
   "outputs": [
    {
     "name": "stdout",
     "output_type": "stream",
     "text": [
      "1\n",
      "1\n",
      "-3\n",
      "-2\n",
      "-2\n"
     ]
    }
   ],
   "source": [
    "# Uncomment and run this code to get started!\n",
    "print(int(1.2321))\n",
    "print(int(1.747))\n",
    "print(int(-3.94535))\n",
    "print(int(-2.19774))\n",
    "print(int(-2.))"
   ]
  },
  {
   "cell_type": "markdown",
   "id": "ac704c78",
   "metadata": {
    "papermill": {
     "duration": 0.005213,
     "end_time": "2023-06-14T12:08:55.906748",
     "exception": false,
     "start_time": "2023-06-14T12:08:55.901535",
     "status": "completed"
    },
    "tags": []
   },
   "source": [
    "Once you have an answer, run the code cell below to see the solution.  Viewing the solution will give you credit for answering the problem."
   ]
  },
  {
   "cell_type": "code",
   "execution_count": 4,
   "id": "760c4eaf",
   "metadata": {
    "execution": {
     "iopub.execute_input": "2023-06-14T12:08:55.918977Z",
     "iopub.status.busy": "2023-06-14T12:08:55.918586Z",
     "iopub.status.idle": "2023-06-14T12:08:55.927696Z",
     "shell.execute_reply": "2023-06-14T12:08:55.926730Z"
    },
    "papermill": {
     "duration": 0.017618,
     "end_time": "2023-06-14T12:08:55.929581",
     "exception": false,
     "start_time": "2023-06-14T12:08:55.911963",
     "status": "completed"
    },
    "tags": []
   },
   "outputs": [
    {
     "data": {
      "application/javascript": [
       "parent.postMessage({\"jupyterEvent\": \"custom.exercise_interaction\", \"data\": {\"outcomeType\": 1, \"valueTowardsCompletion\": 0.2, \"interactionType\": 1, \"questionType\": 4, \"questionId\": \"1_FloatToInt\", \"learnToolsVersion\": \"0.3.4\", \"failureMessage\": \"\", \"exceptionClass\": \"\", \"trace\": \"\"}}, \"*\")"
      ],
      "text/plain": [
       "<IPython.core.display.Javascript object>"
      ]
     },
     "metadata": {},
     "output_type": "display_data"
    },
    {
     "data": {
      "text/markdown": [
       "<span style=\"color:#33cc33\">Correct:</span> \n",
       "\n",
       "Negative floats are always rounded UP to the closest integer (for instance, both -1.1 and -1.9 are rounded up to -1). Positive floats are always rounded DOWN to the closest integer (for instance, 2.1 and 2.9 are rounded down to 2)."
      ],
      "text/plain": [
       "Correct: \n",
       "\n",
       "Negative floats are always rounded UP to the closest integer (for instance, both -1.1 and -1.9 are rounded up to -1). Positive floats are always rounded DOWN to the closest integer (for instance, 2.1 and 2.9 are rounded down to 2)."
      ]
     },
     "metadata": {},
     "output_type": "display_data"
    }
   ],
   "source": [
    "# Check your answer (Run this code cell to receive credit!)\n",
    "q1.check()"
   ]
  },
  {
   "cell_type": "markdown",
   "id": "9c39b7c0",
   "metadata": {
    "papermill": {
     "duration": 0.005222,
     "end_time": "2023-06-14T12:08:55.940573",
     "exception": false,
     "start_time": "2023-06-14T12:08:55.935351",
     "status": "completed"
    },
    "tags": []
   },
   "source": [
    "# Question 2\n",
    "\n",
    "In the tutorial, you learned about booleans (which can take a value of `True` or `False`), in addition to integers, floats, and strings.  For this question, your goal is to determine what happens when you multiply a boolean by any of these data types.  Specifically, \n",
    "- What happens when you multiply an integer or float by `True`?  What happens when you multiply them by `False`?  How does the answer change if the numbers are positive or negative?\n",
    "- What happens when you multiply a string by `True`?  By `False`?\n",
    "\n",
    "Use the next code cell for your investigation. "
   ]
  },
  {
   "cell_type": "code",
   "execution_count": 5,
   "id": "292ff745",
   "metadata": {
    "execution": {
     "iopub.execute_input": "2023-06-14T12:08:55.953044Z",
     "iopub.status.busy": "2023-06-14T12:08:55.952694Z",
     "iopub.status.idle": "2023-06-14T12:08:55.958180Z",
     "shell.execute_reply": "2023-06-14T12:08:55.957157Z"
    },
    "papermill": {
     "duration": 0.014061,
     "end_time": "2023-06-14T12:08:55.960055",
     "exception": false,
     "start_time": "2023-06-14T12:08:55.945994",
     "status": "completed"
    },
    "tags": []
   },
   "outputs": [
    {
     "name": "stdout",
     "output_type": "stream",
     "text": [
      "3\n",
      "-3.1\n",
      "<class 'str'>\n",
      "0\n"
     ]
    }
   ],
   "source": [
    "# Uncomment and run this code to get started!\n",
    "print(3 * True)\n",
    "print(-3.1 * True)\n",
    "print(type(\"abc\" * False))\n",
    "print(len(\"abc\" * False))"
   ]
  },
  {
   "cell_type": "markdown",
   "id": "7137cf0b",
   "metadata": {
    "papermill": {
     "duration": 0.005307,
     "end_time": "2023-06-14T12:08:55.971145",
     "exception": false,
     "start_time": "2023-06-14T12:08:55.965838",
     "status": "completed"
    },
    "tags": []
   },
   "source": [
    "Once you have an answer, run the code cell below to see the solution.  Viewing the solution will give you credit for answering the problem."
   ]
  },
  {
   "cell_type": "code",
   "execution_count": 6,
   "id": "153977a6",
   "metadata": {
    "execution": {
     "iopub.execute_input": "2023-06-14T12:08:55.984260Z",
     "iopub.status.busy": "2023-06-14T12:08:55.983314Z",
     "iopub.status.idle": "2023-06-14T12:08:55.992095Z",
     "shell.execute_reply": "2023-06-14T12:08:55.991165Z"
    },
    "papermill": {
     "duration": 0.017071,
     "end_time": "2023-06-14T12:08:55.993742",
     "exception": false,
     "start_time": "2023-06-14T12:08:55.976671",
     "status": "completed"
    },
    "tags": []
   },
   "outputs": [
    {
     "data": {
      "application/javascript": [
       "parent.postMessage({\"jupyterEvent\": \"custom.exercise_interaction\", \"data\": {\"outcomeType\": 1, \"valueTowardsCompletion\": 0.2, \"interactionType\": 1, \"questionType\": 4, \"questionId\": \"2_MultiplyBooleans\", \"learnToolsVersion\": \"0.3.4\", \"failureMessage\": \"\", \"exceptionClass\": \"\", \"trace\": \"\"}}, \"*\")"
      ],
      "text/plain": [
       "<IPython.core.display.Javascript object>"
      ]
     },
     "metadata": {},
     "output_type": "display_data"
    },
    {
     "data": {
      "text/markdown": [
       "<span style=\"color:#33cc33\">Correct:</span> \n",
       "\n",
       "When you multiple an integer or float by a boolean with value `True`, it just returns that same integer or float (and is equivalent to multiplying by 1).  If you multiply an integer or float by a boolean with value `False`, it always returns 0.  This is true for both positive and negative numbers.  If you multiply a string by a boolean with value `True`, it just returns that same string.  And if you multiply a string by a boolean with value `False`, it returns an empty string (or a string with length zero)."
      ],
      "text/plain": [
       "Correct: \n",
       "\n",
       "When you multiple an integer or float by a boolean with value `True`, it just returns that same integer or float (and is equivalent to multiplying by 1).  If you multiply an integer or float by a boolean with value `False`, it always returns 0.  This is true for both positive and negative numbers.  If you multiply a string by a boolean with value `True`, it just returns that same string.  And if you multiply a string by a boolean with value `False`, it returns an empty string (or a string with length zero)."
      ]
     },
     "metadata": {},
     "output_type": "display_data"
    }
   ],
   "source": [
    "# Check your answer (Run this code cell to receive credit!)\n",
    "q2.check()"
   ]
  },
  {
   "cell_type": "markdown",
   "id": "02795378",
   "metadata": {
    "papermill": {
     "duration": 0.005539,
     "end_time": "2023-06-14T12:08:56.005342",
     "exception": false,
     "start_time": "2023-06-14T12:08:55.999803",
     "status": "completed"
    },
    "tags": []
   },
   "source": [
    "# Question 3\n",
    "\n",
    "In this question, you will build off your work from the previous exercise to write a function that estimates the value of a house.\n",
    "\n",
    "Use the next code cell to create a function `get_expected_cost` that takes as input three variables:\n",
    "- `beds` - number of bedrooms (data type float)\n",
    "- `baths` - number of bathrooms (data type float)\n",
    "- `has_basement` - whether or not the house has a basement (data type boolean)\n",
    "\n",
    "It should return the expected cost of a house with those characteristics. Assume that:\n",
    "- the expected cost for a house with 0 bedrooms and 0 bathrooms, and no basement is 80000, \n",
    "- each bedroom adds 30000 to the expected cost,\n",
    "- each bathroom adds 10000 to the expected cost, and\n",
    "- a basement adds 40000 to the expected cost.\n",
    "\n",
    "For instance,\n",
    "- a house with 1 bedroom, 1 bathroom, and no basement has an expected cost of 80000 + 30000 + 10000 = 120000.  This value will be calculated with `get_expected_cost(1, 1, False)`.\n",
    "- a house with 2 bedrooms, 1 bathroom, and a basement has an expected cost of 80000 + 2*30000 + 10000 + 40000 = 190000.  This value will be calculated with `get_expected_cost(2, 1, True)`.\n",
    "\n",
    "Remember you can always get a hint by uncommenting `q3.hint()` in the code cell following the next!"
   ]
  },
  {
   "cell_type": "code",
   "execution_count": 7,
   "id": "88dfa99e",
   "metadata": {
    "execution": {
     "iopub.execute_input": "2023-06-14T12:08:56.018535Z",
     "iopub.status.busy": "2023-06-14T12:08:56.018156Z",
     "iopub.status.idle": "2023-06-14T12:08:56.028880Z",
     "shell.execute_reply": "2023-06-14T12:08:56.027548Z"
    },
    "papermill": {
     "duration": 0.019897,
     "end_time": "2023-06-14T12:08:56.030933",
     "exception": false,
     "start_time": "2023-06-14T12:08:56.011036",
     "status": "completed"
    },
    "tags": []
   },
   "outputs": [
    {
     "data": {
      "application/javascript": [
       "parent.postMessage({\"jupyterEvent\": \"custom.exercise_interaction\", \"data\": {\"outcomeType\": 1, \"valueTowardsCompletion\": 0.2, \"interactionType\": 1, \"questionType\": 2, \"questionId\": \"3_EstimateHouseValueBool\", \"learnToolsVersion\": \"0.3.4\", \"failureMessage\": \"\", \"exceptionClass\": \"\", \"trace\": \"\"}}, \"*\")"
      ],
      "text/plain": [
       "<IPython.core.display.Javascript object>"
      ]
     },
     "metadata": {},
     "output_type": "display_data"
    },
    {
     "data": {
      "text/markdown": [
       "<span style=\"color:#33cc33\">Correct</span>"
      ],
      "text/plain": [
       "Correct"
      ]
     },
     "metadata": {},
     "output_type": "display_data"
    }
   ],
   "source": [
    "# TODO: Complete the function\n",
    "def get_expected_cost(beds, baths, has_basement):\n",
    "    value = 80000 + beds*30000 + baths*10000 + has_basement*40000\n",
    "    return value\n",
    "\n",
    "# Check your answer \n",
    "q3.check()"
   ]
  },
  {
   "cell_type": "code",
   "execution_count": 8,
   "id": "bb2baf21",
   "metadata": {
    "execution": {
     "iopub.execute_input": "2023-06-14T12:08:56.045129Z",
     "iopub.status.busy": "2023-06-14T12:08:56.044756Z",
     "iopub.status.idle": "2023-06-14T12:08:56.049338Z",
     "shell.execute_reply": "2023-06-14T12:08:56.048427Z"
    },
    "papermill": {
     "duration": 0.013549,
     "end_time": "2023-06-14T12:08:56.051094",
     "exception": false,
     "start_time": "2023-06-14T12:08:56.037545",
     "status": "completed"
    },
    "tags": []
   },
   "outputs": [],
   "source": [
    "# Uncomment to see a hint\n",
    "#q3.hint()\n",
    "\n",
    "# Uncomment to view the solution\n",
    "#q3.solution()"
   ]
  },
  {
   "cell_type": "markdown",
   "id": "f8590db6",
   "metadata": {
    "papermill": {
     "duration": 0.005893,
     "end_time": "2023-06-14T12:08:56.063382",
     "exception": false,
     "start_time": "2023-06-14T12:08:56.057489",
     "status": "completed"
    },
    "tags": []
   },
   "source": [
    "# Question 4\n",
    "\n",
    "We'll continue our study of boolean arithmetic.  For this question, your task is to provide a description of what happpens when you add booleans. \n",
    "\n",
    "Use the next code cell for your investigation.  Feel free to add or remove any lines of code - use it as your workspace!"
   ]
  },
  {
   "cell_type": "code",
   "execution_count": 9,
   "id": "b39ae956",
   "metadata": {
    "execution": {
     "iopub.execute_input": "2023-06-14T12:08:56.077573Z",
     "iopub.status.busy": "2023-06-14T12:08:56.077177Z",
     "iopub.status.idle": "2023-06-14T12:08:56.084253Z",
     "shell.execute_reply": "2023-06-14T12:08:56.082951Z"
    },
    "papermill": {
     "duration": 0.016549,
     "end_time": "2023-06-14T12:08:56.086147",
     "exception": false,
     "start_time": "2023-06-14T12:08:56.069598",
     "status": "completed"
    },
    "tags": []
   },
   "outputs": [
    {
     "name": "stdout",
     "output_type": "stream",
     "text": [
      "0\n",
      "1\n",
      "1\n",
      "2\n",
      "3\n",
      "0\n",
      "0\n",
      "0\n",
      "1\n",
      "0\n"
     ]
    }
   ],
   "source": [
    "print(False + False)\n",
    "print(True + False)\n",
    "print(False + True)\n",
    "print(True + True)\n",
    "print(False + True + True + True)\n",
    "print(False * False)\n",
    "print(True * False)\n",
    "print(False * True)\n",
    "print(True * True)\n",
    "print(False * True * True * True)"
   ]
  },
  {
   "cell_type": "markdown",
   "id": "d47c9185",
   "metadata": {
    "papermill": {
     "duration": 0.00603,
     "end_time": "2023-06-14T12:08:56.098881",
     "exception": false,
     "start_time": "2023-06-14T12:08:56.092851",
     "status": "completed"
    },
    "tags": []
   },
   "source": [
    "Once you have an answer, run the code cell below to see the solution.  Viewing the solution will give you credit for answering the problem."
   ]
  },
  {
   "cell_type": "code",
   "execution_count": 10,
   "id": "fe49d9d7",
   "metadata": {
    "execution": {
     "iopub.execute_input": "2023-06-14T12:08:56.112872Z",
     "iopub.status.busy": "2023-06-14T12:08:56.112530Z",
     "iopub.status.idle": "2023-06-14T12:08:56.121403Z",
     "shell.execute_reply": "2023-06-14T12:08:56.120110Z"
    },
    "papermill": {
     "duration": 0.018779,
     "end_time": "2023-06-14T12:08:56.123898",
     "exception": false,
     "start_time": "2023-06-14T12:08:56.105119",
     "status": "completed"
    },
    "tags": []
   },
   "outputs": [
    {
     "data": {
      "application/javascript": [
       "parent.postMessage({\"jupyterEvent\": \"custom.exercise_interaction\", \"data\": {\"outcomeType\": 1, \"valueTowardsCompletion\": 0.2, \"interactionType\": 1, \"questionType\": 4, \"questionId\": \"4_AddingBooleans\", \"learnToolsVersion\": \"0.3.4\", \"failureMessage\": \"\", \"exceptionClass\": \"\", \"trace\": \"\"}}, \"*\")"
      ],
      "text/plain": [
       "<IPython.core.display.Javascript object>"
      ]
     },
     "metadata": {},
     "output_type": "display_data"
    },
    {
     "data": {
      "text/markdown": [
       "<span style=\"color:#33cc33\">Correct:</span> \n",
       "\n",
       "When you add booleans, adding `False` is equivalent to adding 0, and adding `True` is equivalent to adding 1."
      ],
      "text/plain": [
       "Correct: \n",
       "\n",
       "When you add booleans, adding `False` is equivalent to adding 0, and adding `True` is equivalent to adding 1."
      ]
     },
     "metadata": {},
     "output_type": "display_data"
    }
   ],
   "source": [
    "# Check your answer (Run this code cell to receive credit!)\n",
    "q4.check()"
   ]
  },
  {
   "cell_type": "markdown",
   "id": "241d459a",
   "metadata": {
    "papermill": {
     "duration": 0.006343,
     "end_time": "2023-06-14T12:08:56.136968",
     "exception": false,
     "start_time": "2023-06-14T12:08:56.130625",
     "status": "completed"
    },
    "tags": []
   },
   "source": [
    "# 🌶️ Question 5\n",
    "\n",
    "You own an online shop where you sell rings with custom engravings.  You offer both gold plated and solid gold rings.\n",
    "- Gold plated rings have a base cost of \\\\$50, and you charge \\\\$7 per engraved unit.  \n",
    "- Solid gold rings have a base cost of \\\\$100, and you charge \\\\$10 per engraved unit.\n",
    "- Spaces and punctuation are counted as engraved units.\n",
    "\n",
    "Write a function `cost_of_project()` that takes two arguments:\n",
    "- `engraving` - a Python string with the text of the engraving\n",
    "- `solid_gold` - a Boolean that indicates whether the ring is solid gold\n",
    "\n",
    "It should return the cost of the project.  This question should be fairly challenging, and you may need a hint."
   ]
  },
  {
   "cell_type": "code",
   "execution_count": 11,
   "id": "ff8554c4",
   "metadata": {
    "execution": {
     "iopub.execute_input": "2023-06-14T12:08:56.151486Z",
     "iopub.status.busy": "2023-06-14T12:08:56.151094Z",
     "iopub.status.idle": "2023-06-14T12:08:56.160533Z",
     "shell.execute_reply": "2023-06-14T12:08:56.159096Z"
    },
    "papermill": {
     "duration": 0.018885,
     "end_time": "2023-06-14T12:08:56.162311",
     "exception": false,
     "start_time": "2023-06-14T12:08:56.143426",
     "status": "completed"
    },
    "tags": []
   },
   "outputs": [
    {
     "data": {
      "application/javascript": [
       "parent.postMessage({\"jupyterEvent\": \"custom.exercise_interaction\", \"data\": {\"outcomeType\": 1, \"valueTowardsCompletion\": 0.2, \"interactionType\": 1, \"questionType\": 2, \"questionId\": \"5_CustomEngravings\", \"learnToolsVersion\": \"0.3.4\", \"failureMessage\": \"\", \"exceptionClass\": \"\", \"trace\": \"\"}}, \"*\")"
      ],
      "text/plain": [
       "<IPython.core.display.Javascript object>"
      ]
     },
     "metadata": {},
     "output_type": "display_data"
    },
    {
     "data": {
      "text/markdown": [
       "<span style=\"color:#33cc33\">Correct</span>"
      ],
      "text/plain": [
       "Correct"
      ]
     },
     "metadata": {},
     "output_type": "display_data"
    }
   ],
   "source": [
    "def cost_of_project(engraving, solid_gold):\n",
    "    gold = (solid_gold+1)*50\n",
    "    text = len(engraving)*(solid_gold*3+7)\n",
    "    cost = gold + text\n",
    "    return cost\n",
    "\n",
    "# Check your answer\n",
    "q5.check()"
   ]
  },
  {
   "cell_type": "code",
   "execution_count": 12,
   "id": "36d47b9b",
   "metadata": {
    "execution": {
     "iopub.execute_input": "2023-06-14T12:08:56.177444Z",
     "iopub.status.busy": "2023-06-14T12:08:56.177069Z",
     "iopub.status.idle": "2023-06-14T12:08:56.181725Z",
     "shell.execute_reply": "2023-06-14T12:08:56.180562Z"
    },
    "papermill": {
     "duration": 0.014341,
     "end_time": "2023-06-14T12:08:56.183724",
     "exception": false,
     "start_time": "2023-06-14T12:08:56.169383",
     "status": "completed"
    },
    "tags": []
   },
   "outputs": [],
   "source": [
    "# Uncomment to see a hint\n",
    "#q5.hint()\n",
    "\n",
    "# Uncomment to view the solution\n",
    "#q5.solution()"
   ]
  },
  {
   "cell_type": "markdown",
   "id": "d2957792",
   "metadata": {
    "papermill": {
     "duration": 0.006294,
     "end_time": "2023-06-14T12:08:56.196776",
     "exception": false,
     "start_time": "2023-06-14T12:08:56.190482",
     "status": "completed"
    },
    "tags": []
   },
   "source": [
    "Run the next code cell to calculate the cost of engraving `Charlie+Denver` on a solid gold ring."
   ]
  },
  {
   "cell_type": "code",
   "execution_count": 13,
   "id": "37676e99",
   "metadata": {
    "execution": {
     "iopub.execute_input": "2023-06-14T12:08:56.211161Z",
     "iopub.status.busy": "2023-06-14T12:08:56.210854Z",
     "iopub.status.idle": "2023-06-14T12:08:56.216458Z",
     "shell.execute_reply": "2023-06-14T12:08:56.214983Z"
    },
    "papermill": {
     "duration": 0.015116,
     "end_time": "2023-06-14T12:08:56.218214",
     "exception": false,
     "start_time": "2023-06-14T12:08:56.203098",
     "status": "completed"
    },
    "tags": []
   },
   "outputs": [
    {
     "name": "stdout",
     "output_type": "stream",
     "text": [
      "240\n"
     ]
    }
   ],
   "source": [
    "project_one = cost_of_project(\"Charlie+Denver\", True)\n",
    "print(project_one)"
   ]
  },
  {
   "cell_type": "markdown",
   "id": "295f1426",
   "metadata": {
    "papermill": {
     "duration": 0.006345,
     "end_time": "2023-06-14T12:08:56.231316",
     "exception": false,
     "start_time": "2023-06-14T12:08:56.224971",
     "status": "completed"
    },
    "tags": []
   },
   "source": [
    "Use the next code cell to calculate the cost of engraving `08/10/2000` on a gold plated ring."
   ]
  },
  {
   "cell_type": "code",
   "execution_count": 14,
   "id": "e7b535c5",
   "metadata": {
    "execution": {
     "iopub.execute_input": "2023-06-14T12:08:56.246128Z",
     "iopub.status.busy": "2023-06-14T12:08:56.245749Z",
     "iopub.status.idle": "2023-06-14T12:08:56.250090Z",
     "shell.execute_reply": "2023-06-14T12:08:56.249243Z"
    },
    "papermill": {
     "duration": 0.014844,
     "end_time": "2023-06-14T12:08:56.252588",
     "exception": false,
     "start_time": "2023-06-14T12:08:56.237744",
     "status": "completed"
    },
    "tags": []
   },
   "outputs": [
    {
     "name": "stdout",
     "output_type": "stream",
     "text": [
      "120\n"
     ]
    }
   ],
   "source": [
    "project_two = cost_of_project(\"08/10/2000\", False)\n",
    "print(project_two)"
   ]
  },
  {
   "cell_type": "markdown",
   "id": "d354ebfc",
   "metadata": {
    "papermill": {
     "duration": 0.006562,
     "end_time": "2023-06-14T12:08:56.266827",
     "exception": false,
     "start_time": "2023-06-14T12:08:56.260265",
     "status": "completed"
    },
    "tags": []
   },
   "source": [
    "# Keep going\n",
    "\n",
    "Continue to the next lesson to **[learn about conditions and conditional statements](https://www.kaggle.com/alexisbcook/conditions-and-conditional-statements)**."
   ]
  },
  {
   "cell_type": "markdown",
   "id": "0fddf429",
   "metadata": {
    "papermill": {
     "duration": 0.006879,
     "end_time": "2023-06-14T12:08:56.280587",
     "exception": false,
     "start_time": "2023-06-14T12:08:56.273708",
     "status": "completed"
    },
    "tags": []
   },
   "source": [
    "---\n",
    "\n",
    "\n",
    "\n",
    "\n",
    "*Have questions or comments? Visit the [course discussion forum](https://www.kaggle.com/learn/intro-to-programming/discussion) to chat with other learners.*"
   ]
  }
 ],
 "metadata": {
  "kernelspec": {
   "display_name": "Python 3",
   "language": "python",
   "name": "python3"
  },
  "language_info": {
   "codemirror_mode": {
    "name": "ipython",
    "version": 3
   },
   "file_extension": ".py",
   "mimetype": "text/x-python",
   "name": "python",
   "nbconvert_exporter": "python",
   "pygments_lexer": "ipython3",
   "version": "3.10.10"
  },
  "papermill": {
   "default_parameters": {},
   "duration": 10.796548,
   "end_time": "2023-06-14T12:08:57.108474",
   "environment_variables": {},
   "exception": null,
   "input_path": "__notebook__.ipynb",
   "output_path": "__notebook__.ipynb",
   "parameters": {},
   "start_time": "2023-06-14T12:08:46.311926",
   "version": "2.4.0"
  }
 },
 "nbformat": 4,
 "nbformat_minor": 5
}
