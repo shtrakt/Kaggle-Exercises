{
 "cells": [
  {
   "cell_type": "markdown",
   "id": "aaf1a15a",
   "metadata": {
    "papermill": {
     "duration": 0.00862,
     "end_time": "2023-06-16T12:38:03.563144",
     "exception": false,
     "start_time": "2023-06-16T12:38:03.554524",
     "status": "completed"
    },
    "tags": []
   },
   "source": [
    "**This notebook is an exercise in the [Intro to Programming](https://www.kaggle.com/learn/intro-to-programming) course.  You can reference the tutorial at [this link](https://www.kaggle.com/alexisbcook/intro-to-lists).**\n",
    "\n",
    "---\n"
   ]
  },
  {
   "cell_type": "markdown",
   "id": "59be46a7",
   "metadata": {
    "papermill": {
     "duration": 0.007855,
     "end_time": "2023-06-16T12:38:03.579057",
     "exception": false,
     "start_time": "2023-06-16T12:38:03.571202",
     "status": "completed"
    },
    "tags": []
   },
   "source": [
    "In the tutorial, you learned how to define and modify Python lists.  In this exercise, you will use your new knowledge to solve several problems.\n",
    "\n",
    "# Set up the notebook\n",
    "\n",
    "Run the next code cell without changes to set up the notebook."
   ]
  },
  {
   "cell_type": "code",
   "execution_count": 1,
   "id": "b31fa094",
   "metadata": {
    "execution": {
     "iopub.execute_input": "2023-06-16T12:38:03.597176Z",
     "iopub.status.busy": "2023-06-16T12:38:03.596745Z",
     "iopub.status.idle": "2023-06-16T12:38:03.650793Z",
     "shell.execute_reply": "2023-06-16T12:38:03.649974Z"
    },
    "papermill": {
     "duration": 0.065714,
     "end_time": "2023-06-16T12:38:03.653184",
     "exception": false,
     "start_time": "2023-06-16T12:38:03.587470",
     "status": "completed"
    },
    "tags": []
   },
   "outputs": [
    {
     "name": "stdout",
     "output_type": "stream",
     "text": [
      "Setup complete.\n"
     ]
    }
   ],
   "source": [
    "from learntools.core import binder\n",
    "binder.bind(globals())\n",
    "from learntools.intro_to_programming.ex5 import *\n",
    "print('Setup complete.')"
   ]
  },
  {
   "cell_type": "markdown",
   "id": "6d50bdc2",
   "metadata": {
    "papermill": {
     "duration": 0.007684,
     "end_time": "2023-06-16T12:38:03.668948",
     "exception": false,
     "start_time": "2023-06-16T12:38:03.661264",
     "status": "completed"
    },
    "tags": []
   },
   "source": [
    "# Question 1\n",
    "\n",
    "You own a restaurant with five food dishes, organized in the Python list `menu` below.  One day, you decide to:\n",
    "- remove bean soup (`'bean soup'`) from the menu, and\n",
    "- add roasted beet salad (`'roasted beet salad'`) to the menu.\n",
    "\n",
    "Implement this change to the list below.  While completing this task, \n",
    "- do not change the line that creates the `menu` list.  \n",
    "- your answer should use `.remove()` and `.append()`.  "
   ]
  },
  {
   "cell_type": "code",
   "execution_count": 2,
   "id": "11484cb6",
   "metadata": {
    "execution": {
     "iopub.execute_input": "2023-06-16T12:38:03.688920Z",
     "iopub.status.busy": "2023-06-16T12:38:03.687801Z",
     "iopub.status.idle": "2023-06-16T12:38:03.698086Z",
     "shell.execute_reply": "2023-06-16T12:38:03.697001Z"
    },
    "papermill": {
     "duration": 0.023356,
     "end_time": "2023-06-16T12:38:03.700290",
     "exception": false,
     "start_time": "2023-06-16T12:38:03.676934",
     "status": "completed"
    },
    "tags": []
   },
   "outputs": [
    {
     "data": {
      "application/javascript": [
       "parent.postMessage({\"jupyterEvent\": \"custom.exercise_interaction\", \"data\": {\"outcomeType\": 1, \"valueTowardsCompletion\": 0.2, \"interactionType\": 1, \"questionType\": 2, \"questionId\": \"1_FoodMenu\", \"learnToolsVersion\": \"0.3.4\", \"failureMessage\": \"\", \"exceptionClass\": \"\", \"trace\": \"\"}}, \"*\")"
      ],
      "text/plain": [
       "<IPython.core.display.Javascript object>"
      ]
     },
     "metadata": {},
     "output_type": "display_data"
    },
    {
     "data": {
      "text/markdown": [
       "<span style=\"color:#33cc33\">Correct</span>"
      ],
      "text/plain": [
       "Correct"
      ]
     },
     "metadata": {},
     "output_type": "display_data"
    }
   ],
   "source": [
    "# Do not change: Initial menu for your restaurant\n",
    "menu = ['stewed meat with onions', 'bean soup', 'risotto with trout and shrimp',\n",
    "       'fish soup with cream and onion', 'gyro']\n",
    "\n",
    "# TODO: remove 'bean soup', and add 'roasted beet salad' to the end of the menu\n",
    "menu.remove('bean soup')\n",
    "menu.append('roasted beet salad')\n",
    "\n",
    "# Do not change: Check your answer\n",
    "q1.check()"
   ]
  },
  {
   "cell_type": "code",
   "execution_count": 3,
   "id": "b47ee4e6",
   "metadata": {
    "execution": {
     "iopub.execute_input": "2023-06-16T12:38:03.718645Z",
     "iopub.status.busy": "2023-06-16T12:38:03.718236Z",
     "iopub.status.idle": "2023-06-16T12:38:03.723040Z",
     "shell.execute_reply": "2023-06-16T12:38:03.721949Z"
    },
    "papermill": {
     "duration": 0.016703,
     "end_time": "2023-06-16T12:38:03.725306",
     "exception": false,
     "start_time": "2023-06-16T12:38:03.708603",
     "status": "completed"
    },
    "tags": []
   },
   "outputs": [],
   "source": [
    "# Uncomment to see a hint\n",
    "#q1.hint()\n",
    "\n",
    "# Uncomment to see the solution\n",
    "#q1.solution()"
   ]
  },
  {
   "cell_type": "markdown",
   "id": "b387ed64",
   "metadata": {
    "papermill": {
     "duration": 0.008046,
     "end_time": "2023-06-16T12:38:03.741804",
     "exception": false,
     "start_time": "2023-06-16T12:38:03.733758",
     "status": "completed"
    },
    "tags": []
   },
   "source": [
    "# Question 2\n",
    "\n",
    "The list `num_customers` contains the number of customers who came into your restaurant every day over the last month (which lasted thirty days).  Fill in values for each of the following:\n",
    "- `avg_first_seven` - average number of customers who visited in the first seven days\n",
    "- `avg_last_seven` - average number of customers who visited in the last seven days\n",
    "- `max_month` - number of customers on the day that got the most customers in the last month\n",
    "- `min_month` - number of customers on the day that got the least customers in the last month\n",
    "\n",
    "Answer this question by writing code.  For instance, if you have to find the minimum value in a list, use `min()` instead of scanning for the smallest value and directly filling in a number."
   ]
  },
  {
   "cell_type": "code",
   "execution_count": 4,
   "id": "028a4ea5",
   "metadata": {
    "execution": {
     "iopub.execute_input": "2023-06-16T12:38:03.760344Z",
     "iopub.status.busy": "2023-06-16T12:38:03.759971Z",
     "iopub.status.idle": "2023-06-16T12:38:03.770746Z",
     "shell.execute_reply": "2023-06-16T12:38:03.769682Z"
    },
    "papermill": {
     "duration": 0.022877,
     "end_time": "2023-06-16T12:38:03.772977",
     "exception": false,
     "start_time": "2023-06-16T12:38:03.750100",
     "status": "completed"
    },
    "tags": []
   },
   "outputs": [
    {
     "data": {
      "application/javascript": [
       "parent.postMessage({\"jupyterEvent\": \"custom.exercise_interaction\", \"data\": {\"outcomeType\": 1, \"valueTowardsCompletion\": 0.2, \"interactionType\": 1, \"questionType\": 1, \"questionId\": \"2_NumCustomers\", \"learnToolsVersion\": \"0.3.4\", \"failureMessage\": \"\", \"exceptionClass\": \"\", \"trace\": \"\"}}, \"*\")"
      ],
      "text/plain": [
       "<IPython.core.display.Javascript object>"
      ]
     },
     "metadata": {},
     "output_type": "display_data"
    },
    {
     "data": {
      "text/markdown": [
       "<span style=\"color:#33cc33\">Correct</span>"
      ],
      "text/plain": [
       "Correct"
      ]
     },
     "metadata": {},
     "output_type": "display_data"
    }
   ],
   "source": [
    "# Do not change: Number of customers each day for the last month\n",
    "num_customers = [137, 147, 135, 128, 170, 174, 165, 146, 126, 159,\n",
    "                 141, 148, 132, 147, 168, 153, 170, 161, 148, 152,\n",
    "                 141, 151, 131, 149, 164, 163, 143, 143, 166, 171]\n",
    "\n",
    "# TODO: Fill in values for the variables below\n",
    "avg_first_seven = sum(num_customers[:7])/7 \n",
    "avg_last_seven = sum(num_customers[-7:])/7 \n",
    "max_month = max(num_customers)\n",
    "min_month = min(num_customers)\n",
    "\n",
    "# Do not change: Check your answer\n",
    "q2.check()"
   ]
  },
  {
   "cell_type": "code",
   "execution_count": 5,
   "id": "f272f851",
   "metadata": {
    "execution": {
     "iopub.execute_input": "2023-06-16T12:38:03.791976Z",
     "iopub.status.busy": "2023-06-16T12:38:03.791569Z",
     "iopub.status.idle": "2023-06-16T12:38:03.796281Z",
     "shell.execute_reply": "2023-06-16T12:38:03.795151Z"
    },
    "papermill": {
     "duration": 0.016985,
     "end_time": "2023-06-16T12:38:03.798565",
     "exception": false,
     "start_time": "2023-06-16T12:38:03.781580",
     "status": "completed"
    },
    "tags": []
   },
   "outputs": [],
   "source": [
    "# Uncomment to see a hint\n",
    "#q2.hint()\n",
    "\n",
    "# Uncomment to see the solution\n",
    "#q2.solution()"
   ]
  },
  {
   "cell_type": "markdown",
   "id": "37497145",
   "metadata": {
    "papermill": {
     "duration": 0.008375,
     "end_time": "2023-06-16T12:38:03.815636",
     "exception": false,
     "start_time": "2023-06-16T12:38:03.807261",
     "status": "completed"
    },
    "tags": []
   },
   "source": [
    "# Question 3\n",
    "\n",
    "In the tutorial, we gave an example of a Python string with information that was better as a list."
   ]
  },
  {
   "cell_type": "code",
   "execution_count": 6,
   "id": "25c4c0f4",
   "metadata": {
    "execution": {
     "iopub.execute_input": "2023-06-16T12:38:03.834650Z",
     "iopub.status.busy": "2023-06-16T12:38:03.834260Z",
     "iopub.status.idle": "2023-06-16T12:38:03.839507Z",
     "shell.execute_reply": "2023-06-16T12:38:03.838363Z"
    },
    "papermill": {
     "duration": 0.017383,
     "end_time": "2023-06-16T12:38:03.841760",
     "exception": false,
     "start_time": "2023-06-16T12:38:03.824377",
     "status": "completed"
    },
    "tags": []
   },
   "outputs": [],
   "source": [
    "flowers = \"pink primrose,hard-leaved pocket orchid,canterbury bells,sweet pea,english marigold,tiger lily,moon orchid,bird of paradise,monkshood,globe thistle\""
   ]
  },
  {
   "cell_type": "markdown",
   "id": "27cf38aa",
   "metadata": {
    "papermill": {
     "duration": 0.008562,
     "end_time": "2023-06-16T12:38:03.858922",
     "exception": false,
     "start_time": "2023-06-16T12:38:03.850360",
     "status": "completed"
    },
    "tags": []
   },
   "source": [
    "You can actually use Python to quickly turn this string into a list with `.split()`.  In the parentheses, we need to provide the character should be used to mark the end of one list item and the beginning of another, and enclose it in quotation marks.  In this case, that character is a comma."
   ]
  },
  {
   "cell_type": "code",
   "execution_count": 7,
   "id": "48d141aa",
   "metadata": {
    "execution": {
     "iopub.execute_input": "2023-06-16T12:38:03.878732Z",
     "iopub.status.busy": "2023-06-16T12:38:03.878183Z",
     "iopub.status.idle": "2023-06-16T12:38:03.884414Z",
     "shell.execute_reply": "2023-06-16T12:38:03.883120Z"
    },
    "papermill": {
     "duration": 0.018773,
     "end_time": "2023-06-16T12:38:03.886735",
     "exception": false,
     "start_time": "2023-06-16T12:38:03.867962",
     "status": "completed"
    },
    "tags": []
   },
   "outputs": [
    {
     "name": "stdout",
     "output_type": "stream",
     "text": [
      "['pink primrose', 'hard-leaved pocket orchid', 'canterbury bells', 'sweet pea', 'english marigold', 'tiger lily', 'moon orchid', 'bird of paradise', 'monkshood', 'globe thistle']\n"
     ]
    }
   ],
   "source": [
    " print(flowers.split(\",\"))"
   ]
  },
  {
   "cell_type": "markdown",
   "id": "90d40a8e",
   "metadata": {
    "papermill": {
     "duration": 0.008597,
     "end_time": "2023-06-16T12:38:03.904116",
     "exception": false,
     "start_time": "2023-06-16T12:38:03.895519",
     "status": "completed"
    },
    "tags": []
   },
   "source": [
    "Now it is your turn to try this out!  Create two Python lists:\n",
    "- `letters` should be a Python list where each entry is an uppercase letter of the English alphabet.  For instance, the first two entries should be `\"A\"` and `\"B\"`, and the final two entries should be `\"Y\"` and `\"Z\"`.  Use the string `alphabet` to create this list.\n",
    "- `address` should be a Python list where each row in `address` is a different item in the list.  Currently, each row in `address` is separated by a comma. "
   ]
  },
  {
   "cell_type": "code",
   "execution_count": 8,
   "id": "069a9b8e",
   "metadata": {
    "execution": {
     "iopub.execute_input": "2023-06-16T12:38:03.923803Z",
     "iopub.status.busy": "2023-06-16T12:38:03.923344Z",
     "iopub.status.idle": "2023-06-16T12:38:03.931163Z",
     "shell.execute_reply": "2023-06-16T12:38:03.930436Z"
    },
    "papermill": {
     "duration": 0.020297,
     "end_time": "2023-06-16T12:38:03.933406",
     "exception": false,
     "start_time": "2023-06-16T12:38:03.913109",
     "status": "completed"
    },
    "tags": []
   },
   "outputs": [
    {
     "data": {
      "application/javascript": [
       "parent.postMessage({\"jupyterEvent\": \"custom.exercise_interaction\", \"data\": {\"outcomeType\": 1, \"valueTowardsCompletion\": 0.2, \"interactionType\": 1, \"questionType\": 1, \"questionId\": \"3_SplitString\", \"learnToolsVersion\": \"0.3.4\", \"failureMessage\": \"\", \"exceptionClass\": \"\", \"trace\": \"\"}}, \"*\")"
      ],
      "text/plain": [
       "<IPython.core.display.Javascript object>"
      ]
     },
     "metadata": {},
     "output_type": "display_data"
    },
    {
     "data": {
      "text/markdown": [
       "<span style=\"color:#33cc33\">Correct</span>"
      ],
      "text/plain": [
       "Correct"
      ]
     },
     "metadata": {},
     "output_type": "display_data"
    }
   ],
   "source": [
    "# DO not change: Define two Python strings\n",
    "alphabet = \"A.B.C.D.E.F.G.H.I.J.K.L.M.N.O.P.Q.R.S.T.U.V.W.X.Y.Z\"\n",
    "address = \"Mr. H. Potter,The cupboard under the Stairs,4 Privet Drive,Little Whinging,Surrey\"\n",
    "\n",
    "# TODO: Convert strings into Python lists\n",
    "letters = alphabet.split(\".\")\n",
    "formatted_address = address.split(\",\")\n",
    "\n",
    "# Do not change: Check your answer\n",
    "q3.check()"
   ]
  },
  {
   "cell_type": "code",
   "execution_count": 9,
   "id": "7d14ec1e",
   "metadata": {
    "execution": {
     "iopub.execute_input": "2023-06-16T12:38:03.953031Z",
     "iopub.status.busy": "2023-06-16T12:38:03.952693Z",
     "iopub.status.idle": "2023-06-16T12:38:03.957155Z",
     "shell.execute_reply": "2023-06-16T12:38:03.956183Z"
    },
    "papermill": {
     "duration": 0.016982,
     "end_time": "2023-06-16T12:38:03.959333",
     "exception": false,
     "start_time": "2023-06-16T12:38:03.942351",
     "status": "completed"
    },
    "tags": []
   },
   "outputs": [],
   "source": [
    "# Uncomment to see a hint\n",
    "#q3.hint()\n",
    "\n",
    "# Uncomment to see the solution\n",
    "#q3.solution()"
   ]
  },
  {
   "cell_type": "markdown",
   "id": "812d043c",
   "metadata": {
    "papermill": {
     "duration": 0.008818,
     "end_time": "2023-06-16T12:38:03.977391",
     "exception": false,
     "start_time": "2023-06-16T12:38:03.968573",
     "status": "completed"
    },
    "tags": []
   },
   "source": [
    "# Question 4\n",
    "\n",
    "In the Python course, you'll learn all about **list comprehensions**, which allow you to create a list based on the values in another list.  In this question, you'll get a brief preview of how they work.\n",
    "\n",
    "Say we're working with the list below."
   ]
  },
  {
   "cell_type": "code",
   "execution_count": 10,
   "id": "277b0d4c",
   "metadata": {
    "execution": {
     "iopub.execute_input": "2023-06-16T12:38:03.997674Z",
     "iopub.status.busy": "2023-06-16T12:38:03.997278Z",
     "iopub.status.idle": "2023-06-16T12:38:04.001837Z",
     "shell.execute_reply": "2023-06-16T12:38:04.000713Z"
    },
    "papermill": {
     "duration": 0.017308,
     "end_time": "2023-06-16T12:38:04.004245",
     "exception": false,
     "start_time": "2023-06-16T12:38:03.986937",
     "status": "completed"
    },
    "tags": []
   },
   "outputs": [],
   "source": [
    "test_ratings = [1, 2, 3, 4, 5]"
   ]
  },
  {
   "cell_type": "markdown",
   "id": "bc236879",
   "metadata": {
    "papermill": {
     "duration": 0.008761,
     "end_time": "2023-06-16T12:38:04.022223",
     "exception": false,
     "start_time": "2023-06-16T12:38:04.013462",
     "status": "completed"
    },
    "tags": []
   },
   "source": [
    "Then we can use this list (`test_ratings`) to create a new list (`test_liked`) where each item has been turned into a boolean, depending on whether or not the item is greater than or equal to four."
   ]
  },
  {
   "cell_type": "code",
   "execution_count": 11,
   "id": "417c31f9",
   "metadata": {
    "execution": {
     "iopub.execute_input": "2023-06-16T12:38:04.042310Z",
     "iopub.status.busy": "2023-06-16T12:38:04.041544Z",
     "iopub.status.idle": "2023-06-16T12:38:04.047760Z",
     "shell.execute_reply": "2023-06-16T12:38:04.046492Z"
    },
    "papermill": {
     "duration": 0.018776,
     "end_time": "2023-06-16T12:38:04.049966",
     "exception": false,
     "start_time": "2023-06-16T12:38:04.031190",
     "status": "completed"
    },
    "tags": []
   },
   "outputs": [
    {
     "name": "stdout",
     "output_type": "stream",
     "text": [
      "[False, False, False, True, True]\n"
     ]
    }
   ],
   "source": [
    "test_liked = [i>=4 for i in test_ratings]\n",
    "print(test_liked)"
   ]
  },
  {
   "cell_type": "markdown",
   "id": "e1d2cec0",
   "metadata": {
    "papermill": {
     "duration": 0.00894,
     "end_time": "2023-06-16T12:38:04.068089",
     "exception": false,
     "start_time": "2023-06-16T12:38:04.059149",
     "status": "completed"
    },
    "tags": []
   },
   "source": [
    "In this question, you'll use this list comprehension to define a function `percentage_liked()` that takes one argument as input:\n",
    "- `ratings`: list of ratings that people gave to a movie, where each rating is a number between 1-5, inclusive\n",
    "\n",
    "We say someone liked the movie, if they gave a rating of either 4 or 5.  Your function should return the percentage of people who liked the movie.\n",
    "\n",
    "For instance, if we supply a value of `[1, 2, 3, 4, 5, 4, 5, 1]`, then 50% (4/8) of the people liked the movie, and the function should return `0.5`.\n",
    "\n",
    "Part of the function has already been completed for you.  You need only use `list_liked` to calculate `percentage_liked`."
   ]
  },
  {
   "cell_type": "code",
   "execution_count": 12,
   "id": "8f2b1b0f",
   "metadata": {
    "execution": {
     "iopub.execute_input": "2023-06-16T12:38:04.088271Z",
     "iopub.status.busy": "2023-06-16T12:38:04.087910Z",
     "iopub.status.idle": "2023-06-16T12:38:04.097747Z",
     "shell.execute_reply": "2023-06-16T12:38:04.096695Z"
    },
    "papermill": {
     "duration": 0.022842,
     "end_time": "2023-06-16T12:38:04.100042",
     "exception": false,
     "start_time": "2023-06-16T12:38:04.077200",
     "status": "completed"
    },
    "tags": []
   },
   "outputs": [
    {
     "data": {
      "application/javascript": [
       "parent.postMessage({\"jupyterEvent\": \"custom.exercise_interaction\", \"data\": {\"outcomeType\": 1, \"valueTowardsCompletion\": 0.2, \"interactionType\": 1, \"questionType\": 2, \"questionId\": \"4_PercentageLiked\", \"learnToolsVersion\": \"0.3.4\", \"failureMessage\": \"\", \"exceptionClass\": \"\", \"trace\": \"\"}}, \"*\")"
      ],
      "text/plain": [
       "<IPython.core.display.Javascript object>"
      ]
     },
     "metadata": {},
     "output_type": "display_data"
    },
    {
     "data": {
      "text/markdown": [
       "<span style=\"color:#33cc33\">Correct</span>"
      ],
      "text/plain": [
       "Correct"
      ]
     },
     "metadata": {},
     "output_type": "display_data"
    }
   ],
   "source": [
    "\n",
    "def percentage_liked(ratings):\n",
    "    list_liked = [i>=4 for i in ratings]\n",
    "    # TODO: Complete the function\n",
    "    percentage_liked = sum(list_liked)/len(ratings)\n",
    "    return percentage_liked\n",
    "\n",
    "# Do not change: should return 0.5\n",
    "percentage_liked([1, 2, 3, 4, 5, 4, 5, 1])\n",
    "\n",
    "# Do not change: Check your answer\n",
    "q4.check()"
   ]
  },
  {
   "cell_type": "code",
   "execution_count": 13,
   "id": "80715ab8",
   "metadata": {
    "execution": {
     "iopub.execute_input": "2023-06-16T12:38:04.120745Z",
     "iopub.status.busy": "2023-06-16T12:38:04.120357Z",
     "iopub.status.idle": "2023-06-16T12:38:04.125028Z",
     "shell.execute_reply": "2023-06-16T12:38:04.123985Z"
    },
    "papermill": {
     "duration": 0.017376,
     "end_time": "2023-06-16T12:38:04.127098",
     "exception": false,
     "start_time": "2023-06-16T12:38:04.109722",
     "status": "completed"
    },
    "tags": []
   },
   "outputs": [],
   "source": [
    "# Uncomment to see a hint\n",
    "#q4.hint()\n",
    "\n",
    "# Uncomment to see the solution\n",
    "#q4.solution()"
   ]
  },
  {
   "cell_type": "markdown",
   "id": "5a14fe98",
   "metadata": {
    "papermill": {
     "duration": 0.009188,
     "end_time": "2023-06-16T12:38:04.146043",
     "exception": false,
     "start_time": "2023-06-16T12:38:04.136855",
     "status": "completed"
    },
    "tags": []
   },
   "source": [
    "# 🌶️ Question 5\n",
    " \n",
    "Say you're doing analytics for a website.  You need to write a function that returns the percentage growth in the total number of users relative to a specified number of years ago.\n",
    "\n",
    "Your function `percentage_growth()` should take two arguments as input:\n",
    "- `num_users` = Python list with the total number of users each year.  So `num_users[0]` is the total number of users in the first year, `num_users[1]` is the total number of users in the second year, and so on.  The final entry in the list gives the total number of users in the most recently completed year.\n",
    "- `yrs_ago` = number of years to go back in time when calculating the growth percentage\n",
    "\n",
    "For instance, say `num_users = [920344, 1043553, 1204334, 1458996, 1503323, 1593432, 1623463, 1843064, 1930992, 2001078]`.\n",
    "- if `yrs_ago = 1`, we want the function to return a value of about `0.036`. This corresponds to a percentage growth of approximately 3.6%, calculated as (2001078 - 1930992)/1930992.\n",
    "- if `years_ago = 7`, we would want to return approximately `0.66`.  This corresponds to a percentage growth of approximately 66%, calculated as (2001078 - 1204334)/1204334.\n",
    "\n",
    "Your coworker sent you a draft of a function, but it doesn't seem to be doing the correct calculation.  Can you figure out what has gone wrong and make the needed changes?"
   ]
  },
  {
   "cell_type": "code",
   "execution_count": 14,
   "id": "30da5d18",
   "metadata": {
    "execution": {
     "iopub.execute_input": "2023-06-16T12:38:04.166942Z",
     "iopub.status.busy": "2023-06-16T12:38:04.166500Z",
     "iopub.status.idle": "2023-06-16T12:38:04.178170Z",
     "shell.execute_reply": "2023-06-16T12:38:04.177377Z"
    },
    "papermill": {
     "duration": 0.024466,
     "end_time": "2023-06-16T12:38:04.180309",
     "exception": false,
     "start_time": "2023-06-16T12:38:04.155843",
     "status": "completed"
    },
    "tags": []
   },
   "outputs": [
    {
     "name": "stdout",
     "output_type": "stream",
     "text": [
      "0.03629533421163837\n",
      "0.6615639847417742\n"
     ]
    },
    {
     "data": {
      "application/javascript": [
       "parent.postMessage({\"jupyterEvent\": \"custom.exercise_interaction\", \"data\": {\"outcomeType\": 1, \"valueTowardsCompletion\": 0.2, \"interactionType\": 1, \"questionType\": 2, \"questionId\": \"5_WebsiteAnalytics\", \"learnToolsVersion\": \"0.3.4\", \"failureMessage\": \"\", \"exceptionClass\": \"\", \"trace\": \"\"}}, \"*\")"
      ],
      "text/plain": [
       "<IPython.core.display.Javascript object>"
      ]
     },
     "metadata": {},
     "output_type": "display_data"
    },
    {
     "data": {
      "text/markdown": [
       "<span style=\"color:#33cc33\">Correct</span>"
      ],
      "text/plain": [
       "Correct"
      ]
     },
     "metadata": {},
     "output_type": "display_data"
    }
   ],
   "source": [
    "# TODO: Edit the function\n",
    "def percentage_growth(num_users, yrs_ago):\n",
    "    growth = (num_users[len(num_users)-1] - num_users[len(num_users)-1-yrs_ago])/num_users[len(num_users)-1-yrs_ago]\n",
    "    return growth\n",
    "\n",
    "# Do not change: Variable for calculating some test examples\n",
    "num_users_test = [920344, 1043553, 1204334, 1458996, 1503323, 1593432, 1623463, 1843064, 1930992, 2001078]\n",
    "\n",
    "# Do not change: Should return .036\n",
    "print(percentage_growth(num_users_test, 1))\n",
    "\n",
    "# Do not change: Should return 0.66\n",
    "print(percentage_growth(num_users_test, 7))\n",
    "\n",
    "# Do not change: Check your answer\n",
    "q5.check()"
   ]
  },
  {
   "cell_type": "code",
   "execution_count": 15,
   "id": "8779dafd",
   "metadata": {
    "execution": {
     "iopub.execute_input": "2023-06-16T12:38:04.202056Z",
     "iopub.status.busy": "2023-06-16T12:38:04.201670Z",
     "iopub.status.idle": "2023-06-16T12:38:04.206153Z",
     "shell.execute_reply": "2023-06-16T12:38:04.205126Z"
    },
    "papermill": {
     "duration": 0.018065,
     "end_time": "2023-06-16T12:38:04.208391",
     "exception": false,
     "start_time": "2023-06-16T12:38:04.190326",
     "status": "completed"
    },
    "tags": []
   },
   "outputs": [],
   "source": [
    "# Uncomment to see a hint\n",
    "#q5.hint()\n",
    "\n",
    "# Uncomment to see the solution\n",
    "#q5.solution()"
   ]
  },
  {
   "cell_type": "markdown",
   "id": "716b4505",
   "metadata": {
    "papermill": {
     "duration": 0.010249,
     "end_time": "2023-06-16T12:38:04.228661",
     "exception": false,
     "start_time": "2023-06-16T12:38:04.218412",
     "status": "completed"
    },
    "tags": []
   },
   "source": [
    "# Congratulations!\n",
    "\n",
    "Congratulations for finishing the Intro to Programming course!  You should be proud of your very first steps with learning programming.  As next steps, we recommend taking:\n",
    "- the **[Python course](http://www.kaggle.com/learn/python)**, and \n",
    "- the **[Intro to Machine Learning course](https://www.kaggle.com/learn/intro-to-machine-learning)**."
   ]
  },
  {
   "cell_type": "markdown",
   "id": "109aacc6",
   "metadata": {
    "papermill": {
     "duration": 0.009695,
     "end_time": "2023-06-16T12:38:04.248679",
     "exception": false,
     "start_time": "2023-06-16T12:38:04.238984",
     "status": "completed"
    },
    "tags": []
   },
   "source": [
    "---\n",
    "\n",
    "\n",
    "\n",
    "\n",
    "*Have questions or comments? Visit the [course discussion forum](https://www.kaggle.com/learn/intro-to-programming/discussion) to chat with other learners.*"
   ]
  }
 ],
 "metadata": {
  "kernelspec": {
   "display_name": "Python 3",
   "language": "python",
   "name": "python3"
  },
  "language_info": {
   "codemirror_mode": {
    "name": "ipython",
    "version": 3
   },
   "file_extension": ".py",
   "mimetype": "text/x-python",
   "name": "python",
   "nbconvert_exporter": "python",
   "pygments_lexer": "ipython3",
   "version": "3.10.10"
  },
  "papermill": {
   "default_parameters": {},
   "duration": 13.798732,
   "end_time": "2023-06-16T12:38:05.080251",
   "environment_variables": {},
   "exception": null,
   "input_path": "__notebook__.ipynb",
   "output_path": "__notebook__.ipynb",
   "parameters": {},
   "start_time": "2023-06-16T12:37:51.281519",
   "version": "2.4.0"
  }
 },
 "nbformat": 4,
 "nbformat_minor": 5
}
