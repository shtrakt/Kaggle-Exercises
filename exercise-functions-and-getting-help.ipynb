{
 "cells": [
  {
   "cell_type": "markdown",
   "id": "993b1208",
   "metadata": {
    "papermill": {
     "duration": 0.006634,
     "end_time": "2023-06-17T15:18:58.615883",
     "exception": false,
     "start_time": "2023-06-17T15:18:58.609249",
     "status": "completed"
    },
    "tags": []
   },
   "source": [
    "**This notebook is an exercise in the [Python](https://www.kaggle.com/learn/python) course.  You can reference the tutorial at [this link](https://www.kaggle.com/colinmorris/functions-and-getting-help).**\n",
    "\n",
    "---\n"
   ]
  },
  {
   "cell_type": "markdown",
   "id": "c05af813",
   "metadata": {
    "papermill": {
     "duration": 0.00586,
     "end_time": "2023-06-17T15:18:58.628377",
     "exception": false,
     "start_time": "2023-06-17T15:18:58.622517",
     "status": "completed"
    },
    "tags": []
   },
   "source": [
    "Functions are powerful. Try writing some yourself.\n",
    "\n",
    "As before, don't forget to run the setup code below before jumping into question 1."
   ]
  },
  {
   "cell_type": "code",
   "execution_count": 1,
   "id": "8c146637",
   "metadata": {
    "_kg_hide-input": true,
    "_kg_hide-output": true,
    "execution": {
     "iopub.execute_input": "2023-06-17T15:18:58.642877Z",
     "iopub.status.busy": "2023-06-17T15:18:58.642490Z",
     "iopub.status.idle": "2023-06-17T15:18:58.695449Z",
     "shell.execute_reply": "2023-06-17T15:18:58.694289Z"
    },
    "papermill": {
     "duration": 0.063395,
     "end_time": "2023-06-17T15:18:58.698257",
     "exception": false,
     "start_time": "2023-06-17T15:18:58.634862",
     "status": "completed"
    },
    "tags": []
   },
   "outputs": [
    {
     "name": "stdout",
     "output_type": "stream",
     "text": [
      "Setup complete.\n"
     ]
    }
   ],
   "source": [
    "# SETUP. You don't need to worry for now about what this code does or how it works.\n",
    "from learntools.core import binder; binder.bind(globals())\n",
    "from learntools.python.ex2 import *\n",
    "print('Setup complete.')"
   ]
  },
  {
   "cell_type": "markdown",
   "id": "3de50aa4",
   "metadata": {
    "papermill": {
     "duration": 0.006093,
     "end_time": "2023-06-17T15:18:58.710929",
     "exception": false,
     "start_time": "2023-06-17T15:18:58.704836",
     "status": "completed"
    },
    "tags": []
   },
   "source": [
    "# 1.\n",
    "\n",
    "Complete the body of the following function according to its docstring.\n",
    "\n",
    "HINT: Python has a built-in function `round`."
   ]
  },
  {
   "cell_type": "code",
   "execution_count": 2,
   "id": "24c950ad",
   "metadata": {
    "execution": {
     "iopub.execute_input": "2023-06-17T15:18:58.725106Z",
     "iopub.status.busy": "2023-06-17T15:18:58.724700Z",
     "iopub.status.idle": "2023-06-17T15:18:58.738735Z",
     "shell.execute_reply": "2023-06-17T15:18:58.737522Z"
    },
    "papermill": {
     "duration": 0.02421,
     "end_time": "2023-06-17T15:18:58.741404",
     "exception": false,
     "start_time": "2023-06-17T15:18:58.717194",
     "status": "completed"
    },
    "tags": []
   },
   "outputs": [
    {
     "data": {
      "application/javascript": [
       "parent.postMessage({\"jupyterEvent\": \"custom.exercise_interaction\", \"data\": {\"outcomeType\": 1, \"valueTowardsCompletion\": 0.16666666666666666, \"interactionType\": 1, \"questionType\": 2, \"questionId\": \"1_RoundFunctionProblem\", \"learnToolsVersion\": \"0.3.4\", \"failureMessage\": \"\", \"exceptionClass\": \"\", \"trace\": \"\"}}, \"*\")"
      ],
      "text/plain": [
       "<IPython.core.display.Javascript object>"
      ]
     },
     "metadata": {},
     "output_type": "display_data"
    },
    {
     "data": {
      "text/markdown": [
       "<span style=\"color:#33cc33\">Correct</span>"
      ],
      "text/plain": [
       "Correct"
      ]
     },
     "metadata": {},
     "output_type": "display_data"
    }
   ],
   "source": [
    "def round_to_two_places(num):\n",
    "    \"\"\"Return the given number rounded to two decimal places. \n",
    "    \n",
    "    >>> round_to_two_places(3.14159)\n",
    "    3.14\n",
    "    \"\"\"\n",
    "    # Replace this body with your own code.\n",
    "    return round(num,2)\n",
    "\n",
    "# Check your answer\n",
    "q1.check()"
   ]
  },
  {
   "cell_type": "code",
   "execution_count": 3,
   "id": "0b7e89d5",
   "metadata": {
    "execution": {
     "iopub.execute_input": "2023-06-17T15:18:58.759256Z",
     "iopub.status.busy": "2023-06-17T15:18:58.758833Z",
     "iopub.status.idle": "2023-06-17T15:18:58.763592Z",
     "shell.execute_reply": "2023-06-17T15:18:58.762498Z"
    },
    "papermill": {
     "duration": 0.018062,
     "end_time": "2023-06-17T15:18:58.766187",
     "exception": false,
     "start_time": "2023-06-17T15:18:58.748125",
     "status": "completed"
    },
    "tags": []
   },
   "outputs": [],
   "source": [
    "# Uncomment the following for a hint\n",
    "#q1.hint()\n",
    "# Or uncomment the following to peek at the solution\n",
    "#q1.solution()"
   ]
  },
  {
   "cell_type": "markdown",
   "id": "4f3e2221",
   "metadata": {
    "papermill": {
     "duration": 0.006291,
     "end_time": "2023-06-17T15:18:58.779160",
     "exception": false,
     "start_time": "2023-06-17T15:18:58.772869",
     "status": "completed"
    },
    "tags": []
   },
   "source": [
    "# 2.\n",
    "The help for `round` says that `ndigits` (the second argument) may be negative.\n",
    "What do you think will happen when it is? Try some examples in the following cell."
   ]
  },
  {
   "cell_type": "code",
   "execution_count": 4,
   "id": "f6281d07",
   "metadata": {
    "execution": {
     "iopub.execute_input": "2023-06-17T15:18:58.794135Z",
     "iopub.status.busy": "2023-06-17T15:18:58.793693Z",
     "iopub.status.idle": "2023-06-17T15:18:58.800087Z",
     "shell.execute_reply": "2023-06-17T15:18:58.798885Z"
    },
    "papermill": {
     "duration": 0.016872,
     "end_time": "2023-06-17T15:18:58.802599",
     "exception": false,
     "start_time": "2023-06-17T15:18:58.785727",
     "status": "completed"
    },
    "tags": []
   },
   "outputs": [
    {
     "name": "stdout",
     "output_type": "stream",
     "text": [
      "1323566.246\n",
      "1324000.0\n"
     ]
    }
   ],
   "source": [
    "# Put your test code here\n",
    "print(round(1323566.245695,3))\n",
    "print(round(1323566.245695,-3))"
   ]
  },
  {
   "cell_type": "markdown",
   "id": "d6f7b942",
   "metadata": {
    "papermill": {
     "duration": 0.006478,
     "end_time": "2023-06-17T15:18:58.816404",
     "exception": false,
     "start_time": "2023-06-17T15:18:58.809926",
     "status": "completed"
    },
    "tags": []
   },
   "source": [
    "Can you think of a case where this would be useful?  Once you're ready, run the code cell below to see the answer and to receive credit for completing the problem."
   ]
  },
  {
   "cell_type": "code",
   "execution_count": 5,
   "id": "89880950",
   "metadata": {
    "execution": {
     "iopub.execute_input": "2023-06-17T15:18:58.831811Z",
     "iopub.status.busy": "2023-06-17T15:18:58.831392Z",
     "iopub.status.idle": "2023-06-17T15:18:58.839635Z",
     "shell.execute_reply": "2023-06-17T15:18:58.838521Z"
    },
    "papermill": {
     "duration": 0.018687,
     "end_time": "2023-06-17T15:18:58.841821",
     "exception": false,
     "start_time": "2023-06-17T15:18:58.823134",
     "status": "completed"
    },
    "tags": []
   },
   "outputs": [
    {
     "data": {
      "application/javascript": [
       "parent.postMessage({\"jupyterEvent\": \"custom.exercise_interaction\", \"data\": {\"interactionType\": 3, \"questionType\": 4, \"questionId\": \"2_RoundNdigitsProblem\", \"learnToolsVersion\": \"0.3.4\", \"valueTowardsCompletion\": 0.0, \"failureMessage\": \"\", \"exceptionClass\": \"\", \"trace\": \"\", \"outcomeType\": 4}}, \"*\")"
      ],
      "text/plain": [
       "<IPython.core.display.Javascript object>"
      ]
     },
     "metadata": {},
     "output_type": "display_data"
    },
    {
     "data": {
      "text/markdown": [
       "<span style=\"color:#33cc99\">Solution:</span> As you've seen, `ndigits=-1` rounds to the nearest 10, `ndigits=-2` rounds to the nearest 100 and so on. Where might this be useful? Suppose we're dealing with large numbers:\n",
       "\n",
       "> The area of Finland is 338,424 km²  \n",
       "> The area of Greenland is 2,166,086 km²\n",
       "\n",
       "We probably don't care whether it's really 338,424, or 338,425, or 338,177. All those digits of accuracy are just distracting. We can chop them off by calling `round()` with `ndigits=-3`:\n",
       "\n",
       "> The area of Finland is 338,000 km²  \n",
       "> The area of Greenland is 2,166,000 km²\n",
       "\n",
       "(We'll talk about how we would get the commas later when we talk about string formatting :))\n"
      ],
      "text/plain": [
       "Solution: As you've seen, `ndigits=-1` rounds to the nearest 10, `ndigits=-2` rounds to the nearest 100 and so on. Where might this be useful? Suppose we're dealing with large numbers:\n",
       "\n",
       "> The area of Finland is 338,424 km²  \n",
       "> The area of Greenland is 2,166,086 km²\n",
       "\n",
       "We probably don't care whether it's really 338,424, or 338,425, or 338,177. All those digits of accuracy are just distracting. We can chop them off by calling `round()` with `ndigits=-3`:\n",
       "\n",
       "> The area of Finland is 338,000 km²  \n",
       "> The area of Greenland is 2,166,000 km²\n",
       "\n",
       "(We'll talk about how we would get the commas later when we talk about string formatting :))"
      ]
     },
     "metadata": {},
     "output_type": "display_data"
    }
   ],
   "source": [
    "# Check your answer (Run this code cell to receive credit!)\n",
    "q2.solution()"
   ]
  },
  {
   "cell_type": "markdown",
   "id": "94d119c3",
   "metadata": {
    "papermill": {
     "duration": 0.006657,
     "end_time": "2023-06-17T15:18:58.855790",
     "exception": false,
     "start_time": "2023-06-17T15:18:58.849133",
     "status": "completed"
    },
    "tags": []
   },
   "source": [
    "# 3.\n",
    "\n",
    "In the previous exercise, the candy-sharing friends Alice, Bob and Carol tried to split candies evenly. For the sake of their friendship, any candies left over would be smashed. For example, if they collectively bring home 91 candies, they'll take 30 each and smash 1.\n",
    "\n",
    "Below is a simple function that will calculate the number of candies to smash for *any* number of total candies.\n",
    "\n",
    "Modify it so that it optionally takes a second argument representing the number of friends the candies are being split between. If no second argument is provided, it should assume 3 friends, as before.\n",
    "\n",
    "Update the docstring to reflect this new behaviour."
   ]
  },
  {
   "cell_type": "code",
   "execution_count": 6,
   "id": "892b0f9c",
   "metadata": {
    "execution": {
     "iopub.execute_input": "2023-06-17T15:18:58.871717Z",
     "iopub.status.busy": "2023-06-17T15:18:58.871301Z",
     "iopub.status.idle": "2023-06-17T15:18:58.880255Z",
     "shell.execute_reply": "2023-06-17T15:18:58.879435Z"
    },
    "papermill": {
     "duration": 0.019483,
     "end_time": "2023-06-17T15:18:58.882324",
     "exception": false,
     "start_time": "2023-06-17T15:18:58.862841",
     "status": "completed"
    },
    "tags": []
   },
   "outputs": [
    {
     "data": {
      "application/javascript": [
       "parent.postMessage({\"jupyterEvent\": \"custom.exercise_interaction\", \"data\": {\"outcomeType\": 1, \"valueTowardsCompletion\": 0.16666666666666666, \"interactionType\": 1, \"questionType\": 2, \"questionId\": \"3_CandySmashingFunctionProblem\", \"learnToolsVersion\": \"0.3.4\", \"failureMessage\": \"\", \"exceptionClass\": \"\", \"trace\": \"\"}}, \"*\")"
      ],
      "text/plain": [
       "<IPython.core.display.Javascript object>"
      ]
     },
     "metadata": {},
     "output_type": "display_data"
    },
    {
     "data": {
      "text/markdown": [
       "<span style=\"color:#33cc33\">Correct</span>"
      ],
      "text/plain": [
       "Correct"
      ]
     },
     "metadata": {},
     "output_type": "display_data"
    }
   ],
   "source": [
    "def to_smash(total_candies,nºfriends=3):\n",
    "    \"\"\"Return the number of leftover candies that must be smashed after distributing\n",
    "    the given number of candies evenly between 3 friends.\n",
    "    \n",
    "    >>> to_smash(91)\n",
    "    1\n",
    "    \"\"\"\n",
    "    return total_candies % nºfriends\n",
    "\n",
    "# Check your answer\n",
    "q3.check()"
   ]
  },
  {
   "cell_type": "code",
   "execution_count": 7,
   "id": "0baba178",
   "metadata": {
    "execution": {
     "iopub.execute_input": "2023-06-17T15:18:58.899113Z",
     "iopub.status.busy": "2023-06-17T15:18:58.898665Z",
     "iopub.status.idle": "2023-06-17T15:18:58.903680Z",
     "shell.execute_reply": "2023-06-17T15:18:58.902595Z"
    },
    "papermill": {
     "duration": 0.01633,
     "end_time": "2023-06-17T15:18:58.906048",
     "exception": false,
     "start_time": "2023-06-17T15:18:58.889718",
     "status": "completed"
    },
    "tags": []
   },
   "outputs": [],
   "source": [
    "#q3.hint()"
   ]
  },
  {
   "cell_type": "code",
   "execution_count": 8,
   "id": "a905e7e2",
   "metadata": {
    "execution": {
     "iopub.execute_input": "2023-06-17T15:18:58.922907Z",
     "iopub.status.busy": "2023-06-17T15:18:58.922494Z",
     "iopub.status.idle": "2023-06-17T15:18:58.927214Z",
     "shell.execute_reply": "2023-06-17T15:18:58.926107Z"
    },
    "papermill": {
     "duration": 0.015742,
     "end_time": "2023-06-17T15:18:58.929404",
     "exception": false,
     "start_time": "2023-06-17T15:18:58.913662",
     "status": "completed"
    },
    "tags": []
   },
   "outputs": [],
   "source": [
    "#q3.solution()"
   ]
  },
  {
   "cell_type": "markdown",
   "id": "07acca76",
   "metadata": {
    "papermill": {
     "duration": 0.00742,
     "end_time": "2023-06-17T15:18:58.944301",
     "exception": false,
     "start_time": "2023-06-17T15:18:58.936881",
     "status": "completed"
    },
    "tags": []
   },
   "source": [
    "# 4. (Optional)\n",
    "\n",
    "It may not be fun, but reading and understanding error messages will be an important part of your Python career.\n",
    "\n",
    "Each code cell below contains some commented buggy code. For each cell...\n",
    "\n",
    "1. Read the code and predict what you think will happen when it's run.\n",
    "2. Then uncomment the code and run it to see what happens. (**Tip**: In the kernel editor, you can highlight several lines and press `ctrl`+`/` to toggle commenting.)\n",
    "3. Fix the code (so that it accomplishes its intended purpose without throwing an exception)\n",
    "\n",
    "<!-- TODO: should this be autochecked? Delta is probably pretty small. -->"
   ]
  },
  {
   "cell_type": "code",
   "execution_count": 9,
   "id": "3d29429a",
   "metadata": {
    "execution": {
     "iopub.execute_input": "2023-06-17T15:18:58.960916Z",
     "iopub.status.busy": "2023-06-17T15:18:58.960544Z",
     "iopub.status.idle": "2023-06-17T15:18:58.968030Z",
     "shell.execute_reply": "2023-06-17T15:18:58.966455Z"
    },
    "papermill": {
     "duration": 0.018928,
     "end_time": "2023-06-17T15:18:58.970633",
     "exception": false,
     "start_time": "2023-06-17T15:18:58.951705",
     "status": "completed"
    },
    "tags": []
   },
   "outputs": [
    {
     "data": {
      "text/plain": [
       "10.0"
      ]
     },
     "execution_count": 9,
     "metadata": {},
     "output_type": "execute_result"
    }
   ],
   "source": [
    "round_to_two_places(9.9999)"
   ]
  },
  {
   "cell_type": "code",
   "execution_count": 10,
   "id": "483ad810",
   "metadata": {
    "execution": {
     "iopub.execute_input": "2023-06-17T15:18:58.988554Z",
     "iopub.status.busy": "2023-06-17T15:18:58.988130Z",
     "iopub.status.idle": "2023-06-17T15:18:58.993605Z",
     "shell.execute_reply": "2023-06-17T15:18:58.992249Z"
    },
    "papermill": {
     "duration": 0.017347,
     "end_time": "2023-06-17T15:18:58.996142",
     "exception": false,
     "start_time": "2023-06-17T15:18:58.978795",
     "status": "completed"
    },
    "tags": []
   },
   "outputs": [],
   "source": [
    "x = -10\n",
    "y = 5\n",
    "# Which of the two variables above has the smallest absolute value?\n",
    "smallest_abs = min(abs(x), abs(y))"
   ]
  },
  {
   "cell_type": "code",
   "execution_count": 11,
   "id": "4709dd1a",
   "metadata": {
    "execution": {
     "iopub.execute_input": "2023-06-17T15:18:59.013909Z",
     "iopub.status.busy": "2023-06-17T15:18:59.013500Z",
     "iopub.status.idle": "2023-06-17T15:18:59.020330Z",
     "shell.execute_reply": "2023-06-17T15:18:59.019151Z"
    },
    "papermill": {
     "duration": 0.01872,
     "end_time": "2023-06-17T15:18:59.022906",
     "exception": false,
     "start_time": "2023-06-17T15:18:59.004186",
     "status": "completed"
    },
    "tags": []
   },
   "outputs": [
    {
     "name": "stdout",
     "output_type": "stream",
     "text": [
      "5\n"
     ]
    }
   ],
   "source": [
    "def f(x):\n",
    "    y = abs(x)\n",
    "    return y\n",
    "\n",
    "print(f(5))"
   ]
  },
  {
   "cell_type": "markdown",
   "id": "408f184e",
   "metadata": {
    "papermill": {
     "duration": 0.007839,
     "end_time": "2023-06-17T15:18:59.038470",
     "exception": false,
     "start_time": "2023-06-17T15:18:59.030631",
     "status": "completed"
    },
    "tags": []
   },
   "source": [
    "# Keep Going\n",
    "\n",
    "Nice job with the code. Next up, you'll learn about *conditionals*, which you'll need to **[write interesting programs](https://www.kaggle.com/colinmorris/booleans-and-conditionals)**. "
   ]
  },
  {
   "cell_type": "markdown",
   "id": "3bddcbe8",
   "metadata": {
    "papermill": {
     "duration": 0.008415,
     "end_time": "2023-06-17T15:18:59.054533",
     "exception": false,
     "start_time": "2023-06-17T15:18:59.046118",
     "status": "completed"
    },
    "tags": []
   },
   "source": [
    "---\n",
    "\n",
    "\n",
    "\n",
    "\n",
    "*Have questions or comments? Visit the [course discussion forum](https://www.kaggle.com/learn/python/discussion) to chat with other learners.*"
   ]
  }
 ],
 "metadata": {
  "kernelspec": {
   "display_name": "Python 3",
   "language": "python",
   "name": "python3"
  },
  "language_info": {
   "codemirror_mode": {
    "name": "ipython",
    "version": 3
   },
   "file_extension": ".py",
   "mimetype": "text/x-python",
   "name": "python",
   "nbconvert_exporter": "python",
   "pygments_lexer": "ipython3",
   "version": "3.10.10"
  },
  "papermill": {
   "default_parameters": {},
   "duration": 16.825294,
   "end_time": "2023-06-17T15:19:02.379408",
   "environment_variables": {},
   "exception": null,
   "input_path": "__notebook__.ipynb",
   "output_path": "__notebook__.ipynb",
   "parameters": {},
   "start_time": "2023-06-17T15:18:45.554114",
   "version": "2.4.0"
  }
 },
 "nbformat": 4,
 "nbformat_minor": 5
}
