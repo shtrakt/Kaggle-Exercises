{
 "cells": [
  {
   "cell_type": "markdown",
   "id": "45dc81d4",
   "metadata": {
    "papermill": {
     "duration": 0.006336,
     "end_time": "2023-06-07T15:26:20.315729",
     "exception": false,
     "start_time": "2023-06-07T15:26:20.309393",
     "status": "completed"
    },
    "tags": []
   },
   "source": [
    "**This notebook is an exercise in the [Intro to Programming](https://www.kaggle.com/learn/intro-to-programming) course.  You can reference the tutorial at [this link](https://www.kaggle.com/alexisbcook/functions).**\n",
    "\n",
    "---\n"
   ]
  },
  {
   "cell_type": "markdown",
   "id": "f3c12d8d",
   "metadata": {
    "papermill": {
     "duration": 0.005108,
     "end_time": "2023-06-07T15:26:20.326567",
     "exception": false,
     "start_time": "2023-06-07T15:26:20.321459",
     "status": "completed"
    },
    "tags": []
   },
   "source": [
    "In the tutorial, you learned about functions. In this exercise, you'll write some of your own!\n",
    "\n",
    "# Set up the notebook\n",
    "\n",
    "Run the next code cell without changes to set up the notebook."
   ]
  },
  {
   "cell_type": "code",
   "execution_count": 1,
   "id": "12103a20",
   "metadata": {
    "execution": {
     "iopub.execute_input": "2023-06-07T15:26:20.339778Z",
     "iopub.status.busy": "2023-06-07T15:26:20.339221Z",
     "iopub.status.idle": "2023-06-07T15:26:20.413139Z",
     "shell.execute_reply": "2023-06-07T15:26:20.411560Z"
    },
    "papermill": {
     "duration": 0.083229,
     "end_time": "2023-06-07T15:26:20.415282",
     "exception": false,
     "start_time": "2023-06-07T15:26:20.332053",
     "status": "completed"
    },
    "tags": []
   },
   "outputs": [
    {
     "name": "stdout",
     "output_type": "stream",
     "text": [
      "Setup complete.\n"
     ]
    }
   ],
   "source": [
    "# Set up the exercise\n",
    "import math\n",
    "from learntools.core import binder\n",
    "binder.bind(globals())\n",
    "from learntools.intro_to_programming.ex2 import *\n",
    "print('Setup complete.')"
   ]
  },
  {
   "cell_type": "markdown",
   "id": "41d4a0a6",
   "metadata": {
    "papermill": {
     "duration": 0.006189,
     "end_time": "2023-06-07T15:26:20.426854",
     "exception": false,
     "start_time": "2023-06-07T15:26:20.420665",
     "status": "completed"
    },
    "tags": []
   },
   "source": [
    "# Question 1\n",
    "\n",
    "In the [House Prices - Advanced Regression Techniques competition](https://www.kaggle.com/c/house-prices-advanced-regression-techniques/overview), you need to use information like the number of bedrooms and bathrooms to predict the price of a house.  Inspired by this competition, you'll write your own function to do this.\n",
    "\n",
    "In the next code cell, create a function `get_expected_cost()` that has two arguments:\n",
    "- `beds` - number of bedrooms \n",
    "- `baths` - number of bathrooms\n",
    "\n",
    "It should return the expected cost of a house with that number of bedrooms and bathrooms.  Assume that:\n",
    "- the expected cost for a house with 0 bedrooms and 0 bathrooms is `80000`.  \n",
    "- each bedroom adds `30000` to the expected cost\n",
    "- each bathroom adds `10000` to the expected cost.\n",
    "\n",
    "For instance, \n",
    "- a house with 1 bedroom and 1 bathroom has an expected cost of `120000`, and \n",
    "- a house with 2 bedrooms and 1 bathroom has an expected cost of `150000`."
   ]
  },
  {
   "cell_type": "code",
   "execution_count": 2,
   "id": "9efa393c",
   "metadata": {
    "execution": {
     "iopub.execute_input": "2023-06-07T15:26:20.442290Z",
     "iopub.status.busy": "2023-06-07T15:26:20.441859Z",
     "iopub.status.idle": "2023-06-07T15:26:20.454611Z",
     "shell.execute_reply": "2023-06-07T15:26:20.453657Z"
    },
    "papermill": {
     "duration": 0.023964,
     "end_time": "2023-06-07T15:26:20.456648",
     "exception": false,
     "start_time": "2023-06-07T15:26:20.432684",
     "status": "completed"
    },
    "tags": []
   },
   "outputs": [
    {
     "data": {
      "application/javascript": [
       "parent.postMessage({\"jupyterEvent\": \"custom.exercise_interaction\", \"data\": {\"outcomeType\": 1, \"valueTowardsCompletion\": 0.2, \"interactionType\": 1, \"questionType\": 2, \"questionId\": \"1_GetExpectedCost\", \"learnToolsVersion\": \"0.3.4\", \"failureMessage\": \"\", \"exceptionClass\": \"\", \"trace\": \"\"}}, \"*\")"
      ],
      "text/plain": [
       "<IPython.core.display.Javascript object>"
      ]
     },
     "metadata": {},
     "output_type": "display_data"
    },
    {
     "data": {
      "text/markdown": [
       "<span style=\"color:#33cc33\">Correct</span>"
      ],
      "text/plain": [
       "Correct"
      ]
     },
     "metadata": {},
     "output_type": "display_data"
    }
   ],
   "source": [
    "# TODO: Complete the function\n",
    "def get_expected_cost(beds, baths):\n",
    "    value = 80000 + beds*30000 + baths*10000\n",
    "    return value\n",
    "\n",
    "# Check your answer \n",
    "q1.check()"
   ]
  },
  {
   "cell_type": "code",
   "execution_count": 3,
   "id": "54cb6202",
   "metadata": {
    "execution": {
     "iopub.execute_input": "2023-06-07T15:26:20.469557Z",
     "iopub.status.busy": "2023-06-07T15:26:20.469142Z",
     "iopub.status.idle": "2023-06-07T15:26:20.475092Z",
     "shell.execute_reply": "2023-06-07T15:26:20.472928Z"
    },
    "papermill": {
     "duration": 0.015506,
     "end_time": "2023-06-07T15:26:20.477750",
     "exception": false,
     "start_time": "2023-06-07T15:26:20.462244",
     "status": "completed"
    },
    "tags": []
   },
   "outputs": [],
   "source": [
    "# Uncomment to see a hint\n",
    "#q1.hint()\n",
    "\n",
    "# Uncomment to view the solution\n",
    "#q1.solution()"
   ]
  },
  {
   "cell_type": "markdown",
   "id": "a92d1d65",
   "metadata": {
    "papermill": {
     "duration": 0.006392,
     "end_time": "2023-06-07T15:26:20.490341",
     "exception": false,
     "start_time": "2023-06-07T15:26:20.483949",
     "status": "completed"
    },
    "tags": []
   },
   "source": [
    "# Question 2\n",
    "\n",
    "You are thinking about buying a home and want to get an idea of how much you will spend, based on the number of bedrooms and bathrooms.  You are trying to decide between four different options:\n",
    "- Option 1: house with two bedrooms and three bathrooms\n",
    "- Option 2: house with three bedrooms and two bathrooms\n",
    "- Option 3: house with three bedrooms and three bathrooms\n",
    "- Option 4: house with three bedrooms and four bathrooms\n",
    "\n",
    "Use the `get_expected_cost()` function you defined in question 1 to set `option_1`, `option_2`, `option_3`, and `option_4` to the expected cost of each option."
   ]
  },
  {
   "cell_type": "code",
   "execution_count": 4,
   "id": "2d7e20eb",
   "metadata": {
    "execution": {
     "iopub.execute_input": "2023-06-07T15:26:20.503905Z",
     "iopub.status.busy": "2023-06-07T15:26:20.503390Z",
     "iopub.status.idle": "2023-06-07T15:26:20.517799Z",
     "shell.execute_reply": "2023-06-07T15:26:20.516161Z"
    },
    "papermill": {
     "duration": 0.024198,
     "end_time": "2023-06-07T15:26:20.520229",
     "exception": false,
     "start_time": "2023-06-07T15:26:20.496031",
     "status": "completed"
    },
    "tags": []
   },
   "outputs": [
    {
     "name": "stdout",
     "output_type": "stream",
     "text": [
      "170000\n",
      "190000\n",
      "200000\n",
      "210000\n"
     ]
    },
    {
     "data": {
      "application/javascript": [
       "parent.postMessage({\"jupyterEvent\": \"custom.exercise_interaction\", \"data\": {\"outcomeType\": 1, \"valueTowardsCompletion\": 0.2, \"interactionType\": 1, \"questionType\": 1, \"questionId\": \"2_RunGetExpectedCost\", \"learnToolsVersion\": \"0.3.4\", \"failureMessage\": \"\", \"exceptionClass\": \"\", \"trace\": \"\"}}, \"*\")"
      ],
      "text/plain": [
       "<IPython.core.display.Javascript object>"
      ]
     },
     "metadata": {},
     "output_type": "display_data"
    },
    {
     "data": {
      "text/markdown": [
       "<span style=\"color:#33cc33\">Correct</span>"
      ],
      "text/plain": [
       "Correct"
      ]
     },
     "metadata": {},
     "output_type": "display_data"
    }
   ],
   "source": [
    "# TODO: Use the get_expected_cost function to fill in each value\n",
    "option_one = get_expected_cost(2,3)\n",
    "option_two = get_expected_cost(3,2)\n",
    "option_three = get_expected_cost(3,3)\n",
    "option_four = get_expected_cost(3,4)\n",
    "\n",
    "print(option_one)\n",
    "print(option_two)\n",
    "print(option_three)\n",
    "print(option_four)\n",
    "\n",
    "# Check your answer\n",
    "q2.check()"
   ]
  },
  {
   "cell_type": "code",
   "execution_count": 5,
   "id": "c6259d97",
   "metadata": {
    "execution": {
     "iopub.execute_input": "2023-06-07T15:26:20.535167Z",
     "iopub.status.busy": "2023-06-07T15:26:20.534735Z",
     "iopub.status.idle": "2023-06-07T15:26:20.539573Z",
     "shell.execute_reply": "2023-06-07T15:26:20.538122Z"
    },
    "papermill": {
     "duration": 0.014855,
     "end_time": "2023-06-07T15:26:20.541649",
     "exception": false,
     "start_time": "2023-06-07T15:26:20.526794",
     "status": "completed"
    },
    "tags": []
   },
   "outputs": [],
   "source": [
    "# Uncomment to see a hint\n",
    "#q2.hint()\n",
    "\n",
    "# Uncomment to view the solution\n",
    "#q2.solution()"
   ]
  },
  {
   "cell_type": "markdown",
   "id": "d8190846",
   "metadata": {
    "papermill": {
     "duration": 0.005587,
     "end_time": "2023-06-07T15:26:20.553908",
     "exception": false,
     "start_time": "2023-06-07T15:26:20.548321",
     "status": "completed"
    },
    "tags": []
   },
   "source": [
    "# Question 3\n",
    "\n",
    "You're a home decorator, and you'd like to use Python to streamline some of your work.  Specifically, you're creating a tool that you intend to use to calculate the cost of painting a room.\n",
    "\n",
    "As a first step, define a function `get_cost()` that takes as input:\n",
    "- `sqft_walls` = total square feet of walls to be painted\n",
    "- `sqft_ceiling` = square feet of ceiling to be painted\n",
    "- `sqft_per_gallon` = number of square feet that you can cover with one gallon of paint\n",
    "- `cost_per_gallon` = cost (in dollars) of one gallon of paint\n",
    "\n",
    "It should return the cost (in dollars) of putting one coat of paint on all walls and the ceiling.  Assume you can buy the exact amount of paint that you need, so you can buy partial gallons (e.g., if you need 7.523 gallons, you can buy that exact amount, instead of needing to buy 8 gallons and waste some paint).  Do not round your answer."
   ]
  },
  {
   "cell_type": "code",
   "execution_count": 6,
   "id": "190e2c8e",
   "metadata": {
    "execution": {
     "iopub.execute_input": "2023-06-07T15:26:20.567922Z",
     "iopub.status.busy": "2023-06-07T15:26:20.567444Z",
     "iopub.status.idle": "2023-06-07T15:26:20.576660Z",
     "shell.execute_reply": "2023-06-07T15:26:20.575257Z"
    },
    "papermill": {
     "duration": 0.019532,
     "end_time": "2023-06-07T15:26:20.579265",
     "exception": false,
     "start_time": "2023-06-07T15:26:20.559733",
     "status": "completed"
    },
    "tags": []
   },
   "outputs": [
    {
     "data": {
      "application/javascript": [
       "parent.postMessage({\"jupyterEvent\": \"custom.exercise_interaction\", \"data\": {\"outcomeType\": 1, \"valueTowardsCompletion\": 0.2, \"interactionType\": 1, \"questionType\": 2, \"questionId\": \"3_GetCostPaint\", \"learnToolsVersion\": \"0.3.4\", \"failureMessage\": \"\", \"exceptionClass\": \"\", \"trace\": \"\"}}, \"*\")"
      ],
      "text/plain": [
       "<IPython.core.display.Javascript object>"
      ]
     },
     "metadata": {},
     "output_type": "display_data"
    },
    {
     "data": {
      "text/markdown": [
       "<span style=\"color:#33cc33\">Correct</span>"
      ],
      "text/plain": [
       "Correct"
      ]
     },
     "metadata": {},
     "output_type": "display_data"
    }
   ],
   "source": [
    "# TODO: Finish defining the function\n",
    "def get_cost(sqft_walls, sqft_ceiling, sqft_per_gallon, cost_per_gallon):\n",
    "    total_sqft = sqft_walls + sqft_ceiling\n",
    "    gallons_needed = total_sqft / sqft_per_gallon\n",
    "    cost = cost_per_gallon * gallons_needed\n",
    "    return cost\n",
    "\n",
    "# Check your answer\n",
    "q3.check()"
   ]
  },
  {
   "cell_type": "code",
   "execution_count": 7,
   "id": "7b816b79",
   "metadata": {
    "execution": {
     "iopub.execute_input": "2023-06-07T15:26:20.594636Z",
     "iopub.status.busy": "2023-06-07T15:26:20.594105Z",
     "iopub.status.idle": "2023-06-07T15:26:20.599360Z",
     "shell.execute_reply": "2023-06-07T15:26:20.598042Z"
    },
    "papermill": {
     "duration": 0.015576,
     "end_time": "2023-06-07T15:26:20.601610",
     "exception": false,
     "start_time": "2023-06-07T15:26:20.586034",
     "status": "completed"
    },
    "tags": []
   },
   "outputs": [],
   "source": [
    "# Uncomment to see a hint\n",
    "#q3.hint()\n",
    "\n",
    "# Uncomment to view the solution\n",
    "#q3.solution()"
   ]
  },
  {
   "cell_type": "markdown",
   "id": "f4737f32",
   "metadata": {
    "papermill": {
     "duration": 0.006084,
     "end_time": "2023-06-07T15:26:20.614369",
     "exception": false,
     "start_time": "2023-06-07T15:26:20.608285",
     "status": "completed"
    },
    "tags": []
   },
   "source": [
    "# Question 4\n",
    "\n",
    "Use the `get_cost()` function you defined in Question 3 to calculate the cost of applying one coat of paint to a room with:\n",
    "- 432 square feet of walls, and\n",
    "- 144 square feet of ceiling.\n",
    "\n",
    "Assume that one gallon of paint covers 400 square feet and costs $15.  As in Question 3, assume you can buy partial gallons of paint.  Do not round your answer."
   ]
  },
  {
   "cell_type": "code",
   "execution_count": 8,
   "id": "8de0ff32",
   "metadata": {
    "execution": {
     "iopub.execute_input": "2023-06-07T15:26:20.629430Z",
     "iopub.status.busy": "2023-06-07T15:26:20.628943Z",
     "iopub.status.idle": "2023-06-07T15:26:20.638027Z",
     "shell.execute_reply": "2023-06-07T15:26:20.636999Z"
    },
    "papermill": {
     "duration": 0.020225,
     "end_time": "2023-06-07T15:26:20.641001",
     "exception": false,
     "start_time": "2023-06-07T15:26:20.620776",
     "status": "completed"
    },
    "tags": []
   },
   "outputs": [
    {
     "data": {
      "application/javascript": [
       "parent.postMessage({\"jupyterEvent\": \"custom.exercise_interaction\", \"data\": {\"outcomeType\": 1, \"valueTowardsCompletion\": 0.2, \"interactionType\": 1, \"questionType\": 1, \"questionId\": \"4_GetCostPaintExample\", \"learnToolsVersion\": \"0.3.4\", \"failureMessage\": \"\", \"exceptionClass\": \"\", \"trace\": \"\"}}, \"*\")"
      ],
      "text/plain": [
       "<IPython.core.display.Javascript object>"
      ]
     },
     "metadata": {},
     "output_type": "display_data"
    },
    {
     "data": {
      "text/markdown": [
       "<span style=\"color:#33cc33\">Correct</span>"
      ],
      "text/plain": [
       "Correct"
      ]
     },
     "metadata": {},
     "output_type": "display_data"
    }
   ],
   "source": [
    "# TODO: Set the project_cost variable to the cost of the project\n",
    "project_cost = get_cost(432,144,400,15)\n",
    "\n",
    "# Check your answer\n",
    "q4.check()"
   ]
  },
  {
   "cell_type": "code",
   "execution_count": 9,
   "id": "e5d55b84",
   "metadata": {
    "execution": {
     "iopub.execute_input": "2023-06-07T15:26:20.657048Z",
     "iopub.status.busy": "2023-06-07T15:26:20.656475Z",
     "iopub.status.idle": "2023-06-07T15:26:20.661486Z",
     "shell.execute_reply": "2023-06-07T15:26:20.660425Z"
    },
    "papermill": {
     "duration": 0.016282,
     "end_time": "2023-06-07T15:26:20.664356",
     "exception": false,
     "start_time": "2023-06-07T15:26:20.648074",
     "status": "completed"
    },
    "tags": []
   },
   "outputs": [],
   "source": [
    "# Uncomment to see a hint\n",
    "#q4.hint()\n",
    "\n",
    "# Uncomment to view the solution\n",
    "#q4.solution()"
   ]
  },
  {
   "cell_type": "markdown",
   "id": "8c87b50a",
   "metadata": {
    "papermill": {
     "duration": 0.006149,
     "end_time": "2023-06-07T15:26:20.677606",
     "exception": false,
     "start_time": "2023-06-07T15:26:20.671457",
     "status": "completed"
    },
    "tags": []
   },
   "source": [
    "# 🌶️ Question 5\n",
    "\n",
    "Now say you can no longer buy fractions of a gallon.  (For instance, if you need 4.3 gallons to do a project, then you have to buy 5 gallons of paint.)\n",
    "\n",
    "With this new scenario, you will create a new function `get_actual_cost` that uses the same inputs and calculates the cost of your project.\n",
    "\n",
    "One function that you'll need to use to do this is `math.ceil()`.  We demonstrate usage of this function in the code cell below.  It takes as a number as input and rounds the number up to the nearest integer.  \n",
    "\n",
    "Run the next code cell to test this function for yourself.  Feel free to change the value of `test_value` and make sure `math.ceil()` returns the number you expect."
   ]
  },
  {
   "cell_type": "code",
   "execution_count": 10,
   "id": "88704706",
   "metadata": {
    "execution": {
     "iopub.execute_input": "2023-06-07T15:26:20.692606Z",
     "iopub.status.busy": "2023-06-07T15:26:20.692073Z",
     "iopub.status.idle": "2023-06-07T15:26:20.697889Z",
     "shell.execute_reply": "2023-06-07T15:26:20.696666Z"
    },
    "papermill": {
     "duration": 0.01609,
     "end_time": "2023-06-07T15:26:20.700033",
     "exception": false,
     "start_time": "2023-06-07T15:26:20.683943",
     "status": "completed"
    },
    "tags": []
   },
   "outputs": [
    {
     "name": "stdout",
     "output_type": "stream",
     "text": [
      "3\n"
     ]
    }
   ],
   "source": [
    "test_value = 2.17\n",
    "\n",
    "rounded_value = math.ceil(test_value)\n",
    "print(rounded_value)"
   ]
  },
  {
   "cell_type": "markdown",
   "id": "f1c53ad5",
   "metadata": {
    "papermill": {
     "duration": 0.005924,
     "end_time": "2023-06-07T15:26:20.712448",
     "exception": false,
     "start_time": "2023-06-07T15:26:20.706524",
     "status": "completed"
    },
    "tags": []
   },
   "source": [
    "Use the next code cell to define the function `get_actual_cost()`.  You'll need to use the `math.ceil()` function to do this.\n",
    "\n",
    "When answering this question, note that it's completely valid to define a function that makes use of another function.  For instance, we can define a function `round_up_and_divide_by_three` that makes use of the `math.ceil` function:\n",
    "```\n",
    "def round_up_and_divide_by_three(num):\n",
    "    new_value = math.ceil(num)\n",
    "    final_value = new_value / 3\n",
    "    return final_value\n",
    "```"
   ]
  },
  {
   "cell_type": "code",
   "execution_count": 11,
   "id": "6ffcbc0c",
   "metadata": {
    "execution": {
     "iopub.execute_input": "2023-06-07T15:26:20.727232Z",
     "iopub.status.busy": "2023-06-07T15:26:20.726790Z",
     "iopub.status.idle": "2023-06-07T15:26:20.736161Z",
     "shell.execute_reply": "2023-06-07T15:26:20.735052Z"
    },
    "papermill": {
     "duration": 0.020122,
     "end_time": "2023-06-07T15:26:20.738992",
     "exception": false,
     "start_time": "2023-06-07T15:26:20.718870",
     "status": "completed"
    },
    "tags": []
   },
   "outputs": [
    {
     "data": {
      "application/javascript": [
       "parent.postMessage({\"jupyterEvent\": \"custom.exercise_interaction\", \"data\": {\"outcomeType\": 1, \"valueTowardsCompletion\": 0.2, \"interactionType\": 1, \"questionType\": 2, \"questionId\": \"5_NoMoreFractions\", \"learnToolsVersion\": \"0.3.4\", \"failureMessage\": \"\", \"exceptionClass\": \"\", \"trace\": \"\"}}, \"*\")"
      ],
      "text/plain": [
       "<IPython.core.display.Javascript object>"
      ]
     },
     "metadata": {},
     "output_type": "display_data"
    },
    {
     "data": {
      "text/markdown": [
       "<span style=\"color:#33cc33\">Correct</span>"
      ],
      "text/plain": [
       "Correct"
      ]
     },
     "metadata": {},
     "output_type": "display_data"
    }
   ],
   "source": [
    "def get_actual_cost(sqft_walls, sqft_ceiling, sqft_per_gallon, cost_per_gallon):\n",
    "    total_sqft = sqft_walls + sqft_ceiling\n",
    "    gallons_needed = math.ceil(total_sqft / sqft_per_gallon)\n",
    "    cost = cost_per_gallon * gallons_needed\n",
    "    return cost\n",
    "\n",
    "# Check your answer\n",
    "q5.check()"
   ]
  },
  {
   "cell_type": "code",
   "execution_count": 12,
   "id": "00f8e945",
   "metadata": {
    "execution": {
     "iopub.execute_input": "2023-06-07T15:26:20.755872Z",
     "iopub.status.busy": "2023-06-07T15:26:20.755377Z",
     "iopub.status.idle": "2023-06-07T15:26:20.760995Z",
     "shell.execute_reply": "2023-06-07T15:26:20.759396Z"
    },
    "papermill": {
     "duration": 0.017092,
     "end_time": "2023-06-07T15:26:20.763849",
     "exception": false,
     "start_time": "2023-06-07T15:26:20.746757",
     "status": "completed"
    },
    "tags": []
   },
   "outputs": [],
   "source": [
    "# Uncomment to see a hint\n",
    "#q5.hint()\n",
    "\n",
    "# Uncomment to view the solution\n",
    "#q5.solution()"
   ]
  },
  {
   "cell_type": "markdown",
   "id": "f55f621e",
   "metadata": {
    "papermill": {
     "duration": 0.006193,
     "end_time": "2023-06-07T15:26:20.777242",
     "exception": false,
     "start_time": "2023-06-07T15:26:20.771049",
     "status": "completed"
    },
    "tags": []
   },
   "source": [
    "Once your function is verified as correct, run the next code cell to calculate the updated cost of your project."
   ]
  },
  {
   "cell_type": "code",
   "execution_count": 13,
   "id": "3c96f08d",
   "metadata": {
    "execution": {
     "iopub.execute_input": "2023-06-07T15:26:20.793931Z",
     "iopub.status.busy": "2023-06-07T15:26:20.792505Z",
     "iopub.status.idle": "2023-06-07T15:26:20.802371Z",
     "shell.execute_reply": "2023-06-07T15:26:20.801064Z"
    },
    "papermill": {
     "duration": 0.021056,
     "end_time": "2023-06-07T15:26:20.805298",
     "exception": false,
     "start_time": "2023-06-07T15:26:20.784242",
     "status": "completed"
    },
    "tags": []
   },
   "outputs": [
    {
     "data": {
      "text/plain": [
       "30"
      ]
     },
     "execution_count": 13,
     "metadata": {},
     "output_type": "execute_result"
    }
   ],
   "source": [
    "get_actual_cost(432, 144, 400, 15) "
   ]
  },
  {
   "cell_type": "markdown",
   "id": "d99313e2",
   "metadata": {
    "papermill": {
     "duration": 0.00653,
     "end_time": "2023-06-07T15:26:20.819361",
     "exception": false,
     "start_time": "2023-06-07T15:26:20.812831",
     "status": "completed"
    },
    "tags": []
   },
   "source": [
    "Say you're working with a slightly larger room.  Run the next code cell to calculate the cost of the project."
   ]
  },
  {
   "cell_type": "code",
   "execution_count": 14,
   "id": "f9c10f51",
   "metadata": {
    "execution": {
     "iopub.execute_input": "2023-06-07T15:26:20.835703Z",
     "iopub.status.busy": "2023-06-07T15:26:20.834580Z",
     "iopub.status.idle": "2023-06-07T15:26:20.841696Z",
     "shell.execute_reply": "2023-06-07T15:26:20.840866Z"
    },
    "papermill": {
     "duration": 0.018475,
     "end_time": "2023-06-07T15:26:20.844531",
     "exception": false,
     "start_time": "2023-06-07T15:26:20.826056",
     "status": "completed"
    },
    "tags": []
   },
   "outputs": [
    {
     "data": {
      "text/plain": [
       "45"
      ]
     },
     "execution_count": 14,
     "metadata": {},
     "output_type": "execute_result"
    }
   ],
   "source": [
    "get_actual_cost(594, 288, 400, 15) "
   ]
  },
  {
   "cell_type": "markdown",
   "id": "5ca0a907",
   "metadata": {
    "papermill": {
     "duration": 0.006152,
     "end_time": "2023-06-07T15:26:20.857961",
     "exception": false,
     "start_time": "2023-06-07T15:26:20.851809",
     "status": "completed"
    },
    "tags": []
   },
   "source": [
    "# Keep going\n",
    "\n",
    "Continue to learn about **[data types](https://www.kaggle.com/alexisbcook/data-types)**."
   ]
  },
  {
   "cell_type": "markdown",
   "id": "cd2d797b",
   "metadata": {
    "papermill": {
     "duration": 0.006346,
     "end_time": "2023-06-07T15:26:20.870896",
     "exception": false,
     "start_time": "2023-06-07T15:26:20.864550",
     "status": "completed"
    },
    "tags": []
   },
   "source": [
    "---\n",
    "\n",
    "\n",
    "\n",
    "\n",
    "*Have questions or comments? Visit the [course discussion forum](https://www.kaggle.com/learn/intro-to-programming/discussion) to chat with other learners.*"
   ]
  }
 ],
 "metadata": {
  "kernelspec": {
   "display_name": "Python 3",
   "language": "python",
   "name": "python3"
  },
  "language_info": {
   "codemirror_mode": {
    "name": "ipython",
    "version": 3
   },
   "file_extension": ".py",
   "mimetype": "text/x-python",
   "name": "python",
   "nbconvert_exporter": "python",
   "pygments_lexer": "ipython3",
   "version": "3.10.10"
  },
  "papermill": {
   "default_parameters": {},
   "duration": 12.974587,
   "end_time": "2023-06-07T15:26:22.204798",
   "environment_variables": {},
   "exception": null,
   "input_path": "__notebook__.ipynb",
   "output_path": "__notebook__.ipynb",
   "parameters": {},
   "start_time": "2023-06-07T15:26:09.230211",
   "version": "2.4.0"
  }
 },
 "nbformat": 4,
 "nbformat_minor": 5
}
