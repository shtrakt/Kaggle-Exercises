{
 "cells": [
  {
   "cell_type": "markdown",
   "id": "b33f56ec",
   "metadata": {
    "papermill": {
     "duration": 0.00754,
     "end_time": "2023-06-16T16:40:55.668624",
     "exception": false,
     "start_time": "2023-06-16T16:40:55.661084",
     "status": "completed"
    },
    "tags": []
   },
   "source": [
    "**This notebook is an exercise in the [Python](https://www.kaggle.com/learn/python) course.  You can reference the tutorial at [this link](https://www.kaggle.com/colinmorris/hello-python).**\n",
    "\n",
    "---\n"
   ]
  },
  {
   "cell_type": "markdown",
   "id": "e4f5f2f2",
   "metadata": {
    "papermill": {
     "duration": 0.005341,
     "end_time": "2023-06-16T16:40:55.680008",
     "exception": false,
     "start_time": "2023-06-16T16:40:55.674667",
     "status": "completed"
    },
    "tags": []
   },
   "source": [
    "Welcome to your first set of Python coding problems.  If this is your first time using Kaggle Notebooks, welcome! \n",
    "\n",
    "Notebooks are composed of blocks (called \"cells\") of text and code. Each of these is editable, though you'll mainly be editing the code cells to answer some questions.\n",
    "\n",
    "To get started, try running the code cell below (by pressing the ► button, or clicking on the cell and pressing ctrl+enter on your keyboard)."
   ]
  },
  {
   "cell_type": "code",
   "execution_count": null,
   "id": "46655bb6",
   "metadata": {
    "papermill": {
     "duration": 0.005265,
     "end_time": "2023-06-16T16:40:55.690843",
     "exception": false,
     "start_time": "2023-06-16T16:40:55.685578",
     "status": "completed"
    },
    "tags": []
   },
   "outputs": [],
   "source": []
  },
  {
   "cell_type": "code",
   "execution_count": 1,
   "id": "217aaf74",
   "metadata": {
    "execution": {
     "iopub.execute_input": "2023-06-16T16:40:55.704327Z",
     "iopub.status.busy": "2023-06-16T16:40:55.703735Z",
     "iopub.status.idle": "2023-06-16T16:40:55.713952Z",
     "shell.execute_reply": "2023-06-16T16:40:55.712231Z"
    },
    "papermill": {
     "duration": 0.019868,
     "end_time": "2023-06-16T16:40:55.716407",
     "exception": false,
     "start_time": "2023-06-16T16:40:55.696539",
     "status": "completed"
    },
    "tags": []
   },
   "outputs": [
    {
     "name": "stdout",
     "output_type": "stream",
     "text": [
      "You've successfully run some Python code\n",
      "Congratulations!\n",
      "wow\n"
     ]
    }
   ],
   "source": [
    "print(\"You've successfully run some Python code\")\n",
    "print(\"Congratulations!\")\n",
    "print(\"wow\")"
   ]
  },
  {
   "cell_type": "markdown",
   "id": "6921aee8",
   "metadata": {
    "papermill": {
     "duration": 0.005498,
     "end_time": "2023-06-16T16:40:55.727995",
     "exception": false,
     "start_time": "2023-06-16T16:40:55.722497",
     "status": "completed"
    },
    "tags": []
   },
   "source": [
    "Try adding another line of code in the cell above and re-running it. \n",
    "\n",
    "Now let's get a little fancier:  Add a new code cell by clicking on an existing code cell, hitting the escape key, and then hitting the `a` or `b` key.  The `a` key will add a cell above the current cell, and `b` adds a cell below.\n",
    "\n",
    "Great! Now you know how to use Notebooks.\n",
    "\n",
    "Each hands-on exercise starts by setting up our feedback and code checking mechanism. Run the code cell below to do that. Then you'll be ready to move on to question 0."
   ]
  },
  {
   "cell_type": "code",
   "execution_count": 2,
   "id": "ca6580f2",
   "metadata": {
    "_kg_hide-input": true,
    "_kg_hide-output": true,
    "execution": {
     "iopub.execute_input": "2023-06-16T16:40:55.742023Z",
     "iopub.status.busy": "2023-06-16T16:40:55.741277Z",
     "iopub.status.idle": "2023-06-16T16:40:55.780099Z",
     "shell.execute_reply": "2023-06-16T16:40:55.779016Z"
    },
    "papermill": {
     "duration": 0.048054,
     "end_time": "2023-06-16T16:40:55.781960",
     "exception": false,
     "start_time": "2023-06-16T16:40:55.733906",
     "status": "completed"
    },
    "tags": []
   },
   "outputs": [
    {
     "name": "stdout",
     "output_type": "stream",
     "text": [
      "Setup complete! You're ready to start question 0.\n"
     ]
    }
   ],
   "source": [
    "from learntools.core import binder; binder.bind(globals())\n",
    "from learntools.python.ex1 import *\n",
    "print(\"Setup complete! You're ready to start question 0.\")"
   ]
  },
  {
   "cell_type": "markdown",
   "id": "ba73aa6f",
   "metadata": {
    "papermill": {
     "duration": 0.005417,
     "end_time": "2023-06-16T16:40:55.793165",
     "exception": false,
     "start_time": "2023-06-16T16:40:55.787748",
     "status": "completed"
    },
    "tags": []
   },
   "source": [
    "# 0.\n",
    "\n",
    "*This is a silly question intended as an introduction to the format we use for hands-on exercises throughout all Kaggle courses.*\n",
    "\n",
    "**What is your favorite color? **\n",
    "\n",
    "To complete this question, create a variable called `color` in the cell below with an appropriate value. The function call `q0.check()` (which we've already provided in the cell below) will check your answer."
   ]
  },
  {
   "cell_type": "code",
   "execution_count": 3,
   "id": "980b722a",
   "metadata": {
    "execution": {
     "iopub.execute_input": "2023-06-16T16:40:55.807002Z",
     "iopub.status.busy": "2023-06-16T16:40:55.806601Z",
     "iopub.status.idle": "2023-06-16T16:40:55.817833Z",
     "shell.execute_reply": "2023-06-16T16:40:55.816916Z"
    },
    "papermill": {
     "duration": 0.020777,
     "end_time": "2023-06-16T16:40:55.819787",
     "exception": false,
     "start_time": "2023-06-16T16:40:55.799010",
     "status": "completed"
    },
    "tags": []
   },
   "outputs": [
    {
     "data": {
      "application/javascript": [
       "parent.postMessage({\"jupyterEvent\": \"custom.exercise_interaction\", \"data\": {\"outcomeType\": 1, \"valueTowardsCompletion\": 0.25, \"interactionType\": 1, \"questionType\": 2, \"questionId\": \"0_ExerciseFormatTutorial\", \"learnToolsVersion\": \"0.3.4\", \"failureMessage\": \"\", \"exceptionClass\": \"\", \"trace\": \"\"}}, \"*\")"
      ],
      "text/plain": [
       "<IPython.core.display.Javascript object>"
      ]
     },
     "metadata": {},
     "output_type": "display_data"
    },
    {
     "data": {
      "text/markdown": [
       "<span style=\"color:#33cc33\">Correct:</span> What?! You got it right without needing a hint or anything? Drats. Well hey, you should still continue to the next step to get some practice asking for a hint and checking solutions. (Even though you obviously don't need any help here.)"
      ],
      "text/plain": [
       "Correct: What?! You got it right without needing a hint or anything? Drats. Well hey, you should still continue to the next step to get some practice asking for a hint and checking solutions. (Even though you obviously don't need any help here.)"
      ]
     },
     "metadata": {},
     "output_type": "display_data"
    }
   ],
   "source": [
    "# create a variable called color with an appropriate value on the line below\n",
    "# (Remember, strings in Python must be enclosed in 'single' or \"double\" quotes)\n",
    "color = \"blue\"\n",
    "\n",
    "# Check your answer\n",
    "q0.check()"
   ]
  },
  {
   "cell_type": "markdown",
   "id": "b55abbda",
   "metadata": {
    "papermill": {
     "duration": 0.006789,
     "end_time": "2023-06-16T16:40:55.832808",
     "exception": false,
     "start_time": "2023-06-16T16:40:55.826019",
     "status": "completed"
    },
    "tags": []
   },
   "source": [
    "Didn't get the right answer? How do you not even know your own favorite color?!\n",
    "\n",
    "Delete the `#` in the line below to make one of the lines run. You can choose between getting a hint or the full answer by choosing which line to remove the `#` from. \n",
    "\n",
    "Removing the `#` is called uncommenting, because it changes that line from a \"comment\" which Python doesn't run to code, which Python does run."
   ]
  },
  {
   "cell_type": "code",
   "execution_count": 4,
   "id": "0841974b",
   "metadata": {
    "execution": {
     "iopub.execute_input": "2023-06-16T16:40:55.846132Z",
     "iopub.status.busy": "2023-06-16T16:40:55.845829Z",
     "iopub.status.idle": "2023-06-16T16:40:55.850283Z",
     "shell.execute_reply": "2023-06-16T16:40:55.849323Z"
    },
    "papermill": {
     "duration": 0.013384,
     "end_time": "2023-06-16T16:40:55.852176",
     "exception": false,
     "start_time": "2023-06-16T16:40:55.838792",
     "status": "completed"
    },
    "tags": []
   },
   "outputs": [],
   "source": [
    "#q0.hint()\n",
    "#q0.solution()"
   ]
  },
  {
   "cell_type": "markdown",
   "id": "a5e57763",
   "metadata": {
    "papermill": {
     "duration": 0.005669,
     "end_time": "2023-06-16T16:40:55.863881",
     "exception": false,
     "start_time": "2023-06-16T16:40:55.858212",
     "status": "completed"
    },
    "tags": []
   },
   "source": [
    "The upcoming questions work the same way. The only thing that will change are the question numbers. For the next question, you'll call `q1.check()`, `q1.hint()`, `q1.solution()`, for question 2, you'll call `q2.check()`, and so on."
   ]
  },
  {
   "cell_type": "markdown",
   "id": "0e9943df",
   "metadata": {
    "papermill": {
     "duration": 0.005814,
     "end_time": "2023-06-16T16:40:55.875591",
     "exception": false,
     "start_time": "2023-06-16T16:40:55.869777",
     "status": "completed"
    },
    "tags": []
   },
   "source": [
    "<hr/>\n",
    "\n",
    "# 1.\n",
    "\n",
    "Complete the code below. In case it's helpful, here is the table of available arithmetic operations:\n",
    "\n",
    "\n",
    "\n",
    "| Operator     | Name           | Description                                            |\n",
    "|--------------|----------------|--------------------------------------------------------|\n",
    "| ``a + b``    | Addition       | Sum of ``a`` and ``b``                                 |\n",
    "| ``a - b``    | Subtraction    | Difference of ``a`` and ``b``                          |\n",
    "| ``a * b``    | Multiplication | Product of ``a`` and ``b``                             |\n",
    "| ``a / b``    | True division  | Quotient of ``a`` and ``b``                            |\n",
    "| ``a // b``   | Floor division | Quotient of ``a`` and ``b``, removing fractional parts |\n",
    "| ``a % b``    | Modulus        | Integer remainder after division of ``a`` by ``b``     |\n",
    "| ``a ** b``   | Exponentiation | ``a`` raised to the power of ``b``                     |\n",
    "| ``-a``       | Negation       | The negative of ``a``                                  |\n",
    "\n",
    "<span style=\"display:none\"></span>\n"
   ]
  },
  {
   "cell_type": "code",
   "execution_count": 5,
   "id": "351d3dc1",
   "metadata": {
    "execution": {
     "iopub.execute_input": "2023-06-16T16:40:55.889177Z",
     "iopub.status.busy": "2023-06-16T16:40:55.888492Z",
     "iopub.status.idle": "2023-06-16T16:40:55.896322Z",
     "shell.execute_reply": "2023-06-16T16:40:55.895729Z"
    },
    "papermill": {
     "duration": 0.016784,
     "end_time": "2023-06-16T16:40:55.898213",
     "exception": false,
     "start_time": "2023-06-16T16:40:55.881429",
     "status": "completed"
    },
    "tags": []
   },
   "outputs": [
    {
     "data": {
      "application/javascript": [
       "parent.postMessage({\"jupyterEvent\": \"custom.exercise_interaction\", \"data\": {\"outcomeType\": 1, \"valueTowardsCompletion\": 0.25, \"interactionType\": 1, \"questionType\": 1, \"questionId\": \"1_CircleArea\", \"learnToolsVersion\": \"0.3.4\", \"failureMessage\": \"\", \"exceptionClass\": \"\", \"trace\": \"\"}}, \"*\")"
      ],
      "text/plain": [
       "<IPython.core.display.Javascript object>"
      ]
     },
     "metadata": {},
     "output_type": "display_data"
    },
    {
     "data": {
      "text/markdown": [
       "<span style=\"color:#33cc33\">Correct</span>"
      ],
      "text/plain": [
       "Correct"
      ]
     },
     "metadata": {},
     "output_type": "display_data"
    }
   ],
   "source": [
    "pi = 3.14159 # approximate\n",
    "diameter = 3\n",
    "\n",
    "# Create a variable called 'radius' equal to half the diameter\n",
    "radius = diameter/2\n",
    "\n",
    "# Create a variable called 'area', using the formula for the area of a circle: pi times the radius squared\n",
    "area = pi*(radius)**2\n",
    "\n",
    "# Check your answer\n",
    "q1.check()"
   ]
  },
  {
   "cell_type": "code",
   "execution_count": 6,
   "id": "320fb2fe",
   "metadata": {
    "execution": {
     "iopub.execute_input": "2023-06-16T16:40:55.913183Z",
     "iopub.status.busy": "2023-06-16T16:40:55.912512Z",
     "iopub.status.idle": "2023-06-16T16:40:55.916437Z",
     "shell.execute_reply": "2023-06-16T16:40:55.915616Z"
    },
    "papermill": {
     "duration": 0.014175,
     "end_time": "2023-06-16T16:40:55.919030",
     "exception": false,
     "start_time": "2023-06-16T16:40:55.904855",
     "status": "completed"
    },
    "tags": []
   },
   "outputs": [],
   "source": [
    "# Uncomment and run the lines below if you need help.\n",
    "#q1.hint()\n",
    "#q1.solution()"
   ]
  },
  {
   "cell_type": "markdown",
   "id": "8b9bcedd",
   "metadata": {
    "papermill": {
     "duration": 0.006372,
     "end_time": "2023-06-16T16:40:55.932336",
     "exception": false,
     "start_time": "2023-06-16T16:40:55.925964",
     "status": "completed"
    },
    "tags": []
   },
   "source": [
    "<hr/>\n",
    "\n",
    "# 2.\n",
    "\n",
    "Add code to the following cell to swap variables `a` and `b` (so that `a` refers to the object previously referred to by `b` and vice versa)."
   ]
  },
  {
   "cell_type": "code",
   "execution_count": 7,
   "id": "ab05eb35",
   "metadata": {
    "execution": {
     "iopub.execute_input": "2023-06-16T16:40:55.947050Z",
     "iopub.status.busy": "2023-06-16T16:40:55.946671Z",
     "iopub.status.idle": "2023-06-16T16:40:55.958283Z",
     "shell.execute_reply": "2023-06-16T16:40:55.956442Z"
    },
    "papermill": {
     "duration": 0.022002,
     "end_time": "2023-06-16T16:40:55.960968",
     "exception": false,
     "start_time": "2023-06-16T16:40:55.938966",
     "status": "completed"
    },
    "tags": []
   },
   "outputs": [
    {
     "data": {
      "application/javascript": [
       "parent.postMessage({\"jupyterEvent\": \"custom.exercise_interaction\", \"data\": {\"outcomeType\": 1, \"valueTowardsCompletion\": 0.25, \"interactionType\": 1, \"questionType\": 2, \"questionId\": \"2_VariableSwap\", \"learnToolsVersion\": \"0.3.4\", \"failureMessage\": \"\", \"exceptionClass\": \"\", \"trace\": \"\"}}, \"*\")"
      ],
      "text/plain": [
       "<IPython.core.display.Javascript object>"
      ]
     },
     "metadata": {},
     "output_type": "display_data"
    },
    {
     "data": {
      "text/markdown": [
       "<span style=\"color:#33cc33\">Correct:</span> \n",
       "\n",
       "The most straightforward solution is to use a third variable to temporarily store one of the old values. e.g.:\n",
       "\n",
       "    tmp = a\n",
       "    a = b\n",
       "    b = tmp\n",
       "\n",
       "If you've read lots of Python code, you might have seen the following trick to swap two variables in one line:\n",
       "\n",
       "    a, b = b, a\n",
       "\n",
       "We'll demystify this bit of Python magic later when we talk about *tuples*."
      ],
      "text/plain": [
       "Correct: \n",
       "\n",
       "The most straightforward solution is to use a third variable to temporarily store one of the old values. e.g.:\n",
       "\n",
       "    tmp = a\n",
       "    a = b\n",
       "    b = tmp\n",
       "\n",
       "If you've read lots of Python code, you might have seen the following trick to swap two variables in one line:\n",
       "\n",
       "    a, b = b, a\n",
       "\n",
       "We'll demystify this bit of Python magic later when we talk about *tuples*."
      ]
     },
     "metadata": {},
     "output_type": "display_data"
    }
   ],
   "source": [
    "########### Setup code - don't touch this part ######################\n",
    "# If you're curious, these are examples of lists. We'll talk about \n",
    "# them in depth a few lessons from now. For now, just know that they're\n",
    "# yet another type of Python object, like int or float.\n",
    "a = [1, 2, 3]\n",
    "b = [3, 2, 1]\n",
    "q2.store_original_ids()\n",
    "######################################################################\n",
    "\n",
    "# Your code goes here. Swap the values to which a and b refer.\n",
    "# If you get stuck, you can always uncomment one or both of the lines in\n",
    "# the next cell for a hint, or to peek at the solution.\n",
    "c = a\n",
    "a = b\n",
    "b = c\n",
    "######################################################################\n",
    "\n",
    "# Check your answer\n",
    "q2.check()"
   ]
  },
  {
   "cell_type": "code",
   "execution_count": 8,
   "id": "cf1bc8fe",
   "metadata": {
    "execution": {
     "iopub.execute_input": "2023-06-16T16:40:55.977837Z",
     "iopub.status.busy": "2023-06-16T16:40:55.977458Z",
     "iopub.status.idle": "2023-06-16T16:40:55.985034Z",
     "shell.execute_reply": "2023-06-16T16:40:55.983279Z"
    },
    "papermill": {
     "duration": 0.020586,
     "end_time": "2023-06-16T16:40:55.988963",
     "exception": false,
     "start_time": "2023-06-16T16:40:55.968377",
     "status": "completed"
    },
    "tags": []
   },
   "outputs": [],
   "source": [
    "#q2.hint()"
   ]
  },
  {
   "cell_type": "code",
   "execution_count": 9,
   "id": "455f6b56",
   "metadata": {
    "execution": {
     "iopub.execute_input": "2023-06-16T16:40:56.005794Z",
     "iopub.status.busy": "2023-06-16T16:40:56.005399Z",
     "iopub.status.idle": "2023-06-16T16:40:56.009135Z",
     "shell.execute_reply": "2023-06-16T16:40:56.008438Z"
    },
    "papermill": {
     "duration": 0.014916,
     "end_time": "2023-06-16T16:40:56.011118",
     "exception": false,
     "start_time": "2023-06-16T16:40:55.996202",
     "status": "completed"
    },
    "tags": []
   },
   "outputs": [],
   "source": [
    "#q2.solution()"
   ]
  },
  {
   "cell_type": "markdown",
   "id": "b3bab3a0",
   "metadata": {
    "papermill": {
     "duration": 0.006239,
     "end_time": "2023-06-16T16:40:56.026245",
     "exception": false,
     "start_time": "2023-06-16T16:40:56.020006",
     "status": "completed"
    },
    "tags": []
   },
   "source": [
    "<hr/>\n",
    "\n",
    "# 3a.\n",
    "\n",
    "Add parentheses to the following expression so that it evaluates to 1."
   ]
  },
  {
   "cell_type": "code",
   "execution_count": 10,
   "id": "66b4cc2b",
   "metadata": {
    "execution": {
     "iopub.execute_input": "2023-06-16T16:40:56.040988Z",
     "iopub.status.busy": "2023-06-16T16:40:56.040663Z",
     "iopub.status.idle": "2023-06-16T16:40:56.046286Z",
     "shell.execute_reply": "2023-06-16T16:40:56.045447Z"
    },
    "papermill": {
     "duration": 0.015515,
     "end_time": "2023-06-16T16:40:56.048166",
     "exception": false,
     "start_time": "2023-06-16T16:40:56.032651",
     "status": "completed"
    },
    "tags": []
   },
   "outputs": [
    {
     "data": {
      "text/plain": [
       "1"
      ]
     },
     "execution_count": 10,
     "metadata": {},
     "output_type": "execute_result"
    }
   ],
   "source": [
    "(5 - 3) // 2"
   ]
  },
  {
   "cell_type": "code",
   "execution_count": 11,
   "id": "03939952",
   "metadata": {
    "execution": {
     "iopub.execute_input": "2023-06-16T16:40:56.063273Z",
     "iopub.status.busy": "2023-06-16T16:40:56.062842Z",
     "iopub.status.idle": "2023-06-16T16:40:56.067634Z",
     "shell.execute_reply": "2023-06-16T16:40:56.066567Z"
    },
    "papermill": {
     "duration": 0.014655,
     "end_time": "2023-06-16T16:40:56.069540",
     "exception": false,
     "start_time": "2023-06-16T16:40:56.054885",
     "status": "completed"
    },
    "tags": []
   },
   "outputs": [],
   "source": [
    "#q3.a.hint()"
   ]
  },
  {
   "cell_type": "code",
   "execution_count": 12,
   "id": "9536cf5c",
   "metadata": {
    "execution": {
     "iopub.execute_input": "2023-06-16T16:40:56.084824Z",
     "iopub.status.busy": "2023-06-16T16:40:56.084446Z",
     "iopub.status.idle": "2023-06-16T16:40:56.094132Z",
     "shell.execute_reply": "2023-06-16T16:40:56.092620Z"
    },
    "papermill": {
     "duration": 0.020464,
     "end_time": "2023-06-16T16:40:56.096793",
     "exception": false,
     "start_time": "2023-06-16T16:40:56.076329",
     "status": "completed"
    },
    "tags": []
   },
   "outputs": [
    {
     "data": {
      "application/javascript": [
       "parent.postMessage({\"jupyterEvent\": \"custom.exercise_interaction\", \"data\": {\"interactionType\": 3, \"questionType\": 4, \"questionId\": \"3.1_ArithmeticParensEasy\", \"learnToolsVersion\": \"0.3.4\", \"valueTowardsCompletion\": 0.0, \"failureMessage\": \"\", \"exceptionClass\": \"\", \"trace\": \"\", \"outcomeType\": 4}}, \"*\")"
      ],
      "text/plain": [
       "<IPython.core.display.Javascript object>"
      ]
     },
     "metadata": {},
     "output_type": "display_data"
    },
    {
     "data": {
      "text/markdown": [
       "<span style=\"color:#33cc99\">Solution:</span> \n",
       "```python\n",
       "(5 - 3) // 2\n",
       "```"
      ],
      "text/plain": [
       "Solution: \n",
       "```python\n",
       "(5 - 3) // 2\n",
       "```"
      ]
     },
     "metadata": {},
     "output_type": "display_data"
    }
   ],
   "source": [
    "# Check your answer (Run this code cell to receive credit!)\n",
    "q3.a.solution()"
   ]
  },
  {
   "cell_type": "markdown",
   "id": "71653d2e",
   "metadata": {
    "papermill": {
     "duration": 0.007536,
     "end_time": "2023-06-16T16:40:56.112373",
     "exception": false,
     "start_time": "2023-06-16T16:40:56.104837",
     "status": "completed"
    },
    "tags": []
   },
   "source": [
    "# 3b.  <span title=\"A bit spicy\" style=\"color: darkgreen \">🌶️</span>\n",
    "\n",
    "<small>Questions, like this one, marked a spicy pepper are a bit harder.</small>\n",
    "\n",
    "Add parentheses to the following expression so that it evaluates to 0."
   ]
  },
  {
   "cell_type": "code",
   "execution_count": 13,
   "id": "9599c55e",
   "metadata": {
    "execution": {
     "iopub.execute_input": "2023-06-16T16:40:56.131160Z",
     "iopub.status.busy": "2023-06-16T16:40:56.130570Z",
     "iopub.status.idle": "2023-06-16T16:40:56.137172Z",
     "shell.execute_reply": "2023-06-16T16:40:56.135737Z"
    },
    "papermill": {
     "duration": 0.019378,
     "end_time": "2023-06-16T16:40:56.139341",
     "exception": false,
     "start_time": "2023-06-16T16:40:56.119963",
     "status": "completed"
    },
    "tags": []
   },
   "outputs": [
    {
     "data": {
      "text/plain": [
       "0"
      ]
     },
     "execution_count": 13,
     "metadata": {},
     "output_type": "execute_result"
    }
   ],
   "source": [
    "8 - 3 * 2 - (1 + 1)"
   ]
  },
  {
   "cell_type": "code",
   "execution_count": 14,
   "id": "3fe17f98",
   "metadata": {
    "execution": {
     "iopub.execute_input": "2023-06-16T16:40:56.158550Z",
     "iopub.status.busy": "2023-06-16T16:40:56.157791Z",
     "iopub.status.idle": "2023-06-16T16:40:56.162535Z",
     "shell.execute_reply": "2023-06-16T16:40:56.160996Z"
    },
    "papermill": {
     "duration": 0.018209,
     "end_time": "2023-06-16T16:40:56.166114",
     "exception": false,
     "start_time": "2023-06-16T16:40:56.147905",
     "status": "completed"
    },
    "tags": []
   },
   "outputs": [],
   "source": [
    "#q3.b.hint()"
   ]
  },
  {
   "cell_type": "code",
   "execution_count": 15,
   "id": "070e2804",
   "metadata": {
    "execution": {
     "iopub.execute_input": "2023-06-16T16:40:56.185906Z",
     "iopub.status.busy": "2023-06-16T16:40:56.185546Z",
     "iopub.status.idle": "2023-06-16T16:40:56.193424Z",
     "shell.execute_reply": "2023-06-16T16:40:56.192530Z"
    },
    "papermill": {
     "duration": 0.021633,
     "end_time": "2023-06-16T16:40:56.196832",
     "exception": false,
     "start_time": "2023-06-16T16:40:56.175199",
     "status": "completed"
    },
    "tags": []
   },
   "outputs": [
    {
     "data": {
      "application/javascript": [
       "parent.postMessage({\"jupyterEvent\": \"custom.exercise_interaction\", \"data\": {\"interactionType\": 3, \"questionType\": 4, \"questionId\": \"3.2_ArithmeticParensHard\", \"learnToolsVersion\": \"0.3.4\", \"valueTowardsCompletion\": 0.0, \"failureMessage\": \"\", \"exceptionClass\": \"\", \"trace\": \"\", \"outcomeType\": 4}}, \"*\")"
      ],
      "text/plain": [
       "<IPython.core.display.Javascript object>"
      ]
     },
     "metadata": {},
     "output_type": "display_data"
    },
    {
     "data": {
      "text/markdown": [
       "<span style=\"color:#33cc99\">Solution:</span> `(8 - 3) * (2 - (1 + 1))` is one solution. There may be others."
      ],
      "text/plain": [
       "Solution: `(8 - 3) * (2 - (1 + 1))` is one solution. There may be others."
      ]
     },
     "metadata": {},
     "output_type": "display_data"
    }
   ],
   "source": [
    "# Check your answer (Run this code cell to receive credit!)\n",
    "q3.b.solution()"
   ]
  },
  {
   "cell_type": "markdown",
   "id": "6b741e28",
   "metadata": {
    "papermill": {
     "duration": 0.007008,
     "end_time": "2023-06-16T16:40:56.212381",
     "exception": false,
     "start_time": "2023-06-16T16:40:56.205373",
     "status": "completed"
    },
    "tags": []
   },
   "source": [
    "<hr/>\n",
    "\n",
    "# 4. \n",
    "Alice, Bob and Carol have agreed to pool their Halloween candy and split it evenly among themselves.\n",
    "For the sake of their friendship, any candies left over will be smashed. For example, if they collectively\n",
    "bring home 91 candies, they'll take 30 each and smash 1.\n",
    "\n",
    "Write an arithmetic expression below to calculate how many candies they must smash for a given haul."
   ]
  },
  {
   "cell_type": "code",
   "execution_count": 16,
   "id": "fee2cf6c",
   "metadata": {
    "execution": {
     "iopub.execute_input": "2023-06-16T16:40:56.228411Z",
     "iopub.status.busy": "2023-06-16T16:40:56.227716Z",
     "iopub.status.idle": "2023-06-16T16:40:56.236693Z",
     "shell.execute_reply": "2023-06-16T16:40:56.235803Z"
    },
    "papermill": {
     "duration": 0.018995,
     "end_time": "2023-06-16T16:40:56.238515",
     "exception": false,
     "start_time": "2023-06-16T16:40:56.219520",
     "status": "completed"
    },
    "tags": []
   },
   "outputs": [
    {
     "data": {
      "application/javascript": [
       "parent.postMessage({\"jupyterEvent\": \"custom.exercise_interaction\", \"data\": {\"outcomeType\": 1, \"valueTowardsCompletion\": 0.25, \"interactionType\": 1, \"questionType\": 1, \"questionId\": \"4_CandySplitting\", \"learnToolsVersion\": \"0.3.4\", \"failureMessage\": \"\", \"exceptionClass\": \"\", \"trace\": \"\"}}, \"*\")"
      ],
      "text/plain": [
       "<IPython.core.display.Javascript object>"
      ]
     },
     "metadata": {},
     "output_type": "display_data"
    },
    {
     "data": {
      "text/markdown": [
       "<span style=\"color:#33cc33\">Correct</span>"
      ],
      "text/plain": [
       "Correct"
      ]
     },
     "metadata": {},
     "output_type": "display_data"
    }
   ],
   "source": [
    "# Variables representing the number of candies collected by alice, bob, and carol\n",
    "alice_candies = 121\n",
    "bob_candies = 77\n",
    "carol_candies = 109\n",
    "\n",
    "# Your code goes here! Replace the right-hand side of this assignment with an expression\n",
    "# involving alice_candies, bob_candies, and carol_candies\n",
    "to_smash = (alice_candies + bob_candies + carol_candies) % 3\n",
    "\n",
    "# Check your answer\n",
    "q4.check()"
   ]
  },
  {
   "cell_type": "code",
   "execution_count": 17,
   "id": "fee72c23",
   "metadata": {
    "execution": {
     "iopub.execute_input": "2023-06-16T16:40:56.256123Z",
     "iopub.status.busy": "2023-06-16T16:40:56.255057Z",
     "iopub.status.idle": "2023-06-16T16:40:56.259142Z",
     "shell.execute_reply": "2023-06-16T16:40:56.258531Z"
    },
    "papermill": {
     "duration": 0.014775,
     "end_time": "2023-06-16T16:40:56.260831",
     "exception": false,
     "start_time": "2023-06-16T16:40:56.246056",
     "status": "completed"
    },
    "tags": []
   },
   "outputs": [],
   "source": [
    "#q4.hint()\n",
    "#q4.solution()"
   ]
  },
  {
   "cell_type": "markdown",
   "id": "f1a57125",
   "metadata": {
    "papermill": {
     "duration": 0.007329,
     "end_time": "2023-06-16T16:40:56.275729",
     "exception": false,
     "start_time": "2023-06-16T16:40:56.268400",
     "status": "completed"
    },
    "tags": []
   },
   "source": [
    "# Keep Going\n",
    "\n",
    "Next up, you'll **[learn to write new functions and understand functions others write](https://www.kaggle.com/colinmorris/functions-and-getting-help)**. This will make you at least 10 times more productive as a Python programmer. "
   ]
  },
  {
   "cell_type": "markdown",
   "id": "d2ef6024",
   "metadata": {
    "papermill": {
     "duration": 0.010544,
     "end_time": "2023-06-16T16:40:56.294234",
     "exception": false,
     "start_time": "2023-06-16T16:40:56.283690",
     "status": "completed"
    },
    "tags": []
   },
   "source": [
    "---\n",
    "\n",
    "\n",
    "\n",
    "\n",
    "*Have questions or comments? Visit the [course discussion forum](https://www.kaggle.com/learn/python/discussion) to chat with other learners.*"
   ]
  }
 ],
 "metadata": {
  "kernelspec": {
   "display_name": "Python 3",
   "language": "python",
   "name": "python3"
  },
  "language_info": {
   "codemirror_mode": {
    "name": "ipython",
    "version": 3
   },
   "file_extension": ".py",
   "mimetype": "text/x-python",
   "name": "python",
   "nbconvert_exporter": "python",
   "pygments_lexer": "ipython3",
   "version": "3.10.10"
  },
  "papermill": {
   "default_parameters": {},
   "duration": 10.279249,
   "end_time": "2023-06-16T16:40:57.126240",
   "environment_variables": {},
   "exception": null,
   "input_path": "__notebook__.ipynb",
   "output_path": "__notebook__.ipynb",
   "parameters": {},
   "start_time": "2023-06-16T16:40:46.846991",
   "version": "2.4.0"
  }
 },
 "nbformat": 4,
 "nbformat_minor": 5
}
