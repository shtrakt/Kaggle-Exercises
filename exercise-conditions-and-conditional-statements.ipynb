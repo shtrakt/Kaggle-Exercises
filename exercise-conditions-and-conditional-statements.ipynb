{
 "cells": [
  {
   "cell_type": "markdown",
   "id": "15d0fa35",
   "metadata": {
    "papermill": {
     "duration": 0.006254,
     "end_time": "2023-06-14T13:06:37.825460",
     "exception": false,
     "start_time": "2023-06-14T13:06:37.819206",
     "status": "completed"
    },
    "tags": []
   },
   "source": [
    "**This notebook is an exercise in the [Intro to Programming](https://www.kaggle.com/learn/intro-to-programming) course.  You can reference the tutorial at [this link](https://www.kaggle.com/alexisbcook/conditions-and-conditional-statements).**\n",
    "\n",
    "---\n"
   ]
  },
  {
   "cell_type": "markdown",
   "id": "83b6263c",
   "metadata": {
    "papermill": {
     "duration": 0.005282,
     "end_time": "2023-06-14T13:06:37.836346",
     "exception": false,
     "start_time": "2023-06-14T13:06:37.831064",
     "status": "completed"
    },
    "tags": []
   },
   "source": [
    "In the tutorial, you learned about conditions and conditional statements. In this exercise, you will use what you learned to answer several questions.\n",
    "\n",
    "# Set up the notebook\n",
    "\n",
    "Run the next code cell without changes to set up the notebook."
   ]
  },
  {
   "cell_type": "code",
   "execution_count": 1,
   "id": "4bdc6d5c",
   "metadata": {
    "execution": {
     "iopub.execute_input": "2023-06-14T13:06:37.849504Z",
     "iopub.status.busy": "2023-06-14T13:06:37.849038Z",
     "iopub.status.idle": "2023-06-14T13:06:37.897967Z",
     "shell.execute_reply": "2023-06-14T13:06:37.896453Z"
    },
    "papermill": {
     "duration": 0.058608,
     "end_time": "2023-06-14T13:06:37.900565",
     "exception": false,
     "start_time": "2023-06-14T13:06:37.841957",
     "status": "completed"
    },
    "tags": []
   },
   "outputs": [
    {
     "name": "stdout",
     "output_type": "stream",
     "text": [
      "Setup complete.\n"
     ]
    }
   ],
   "source": [
    "from learntools.core import binder\n",
    "binder.bind(globals())\n",
    "from learntools.intro_to_programming.ex4 import *\n",
    "print('Setup complete.')"
   ]
  },
  {
   "cell_type": "markdown",
   "id": "b2cef6b8",
   "metadata": {
    "papermill": {
     "duration": 0.005277,
     "end_time": "2023-06-14T13:06:37.911792",
     "exception": false,
     "start_time": "2023-06-14T13:06:37.906515",
     "status": "completed"
    },
    "tags": []
   },
   "source": [
    "# Question 1\n",
    "\n",
    "You work at a college admissions office.  When inspecting a dataset of college applicants, you notice that some students have represented their grades with letters (`\"A\"`, `\"B\"`, `\"C\"`, `\"D\"`, `\"F\"`), whereas others have represented their grades with a number between 0 and 100.\n",
    "\n",
    "You realize that for consistency, all of the grades should be formatted in the same way, and you decide to format them all as letters.  For the conversion, you decide to assign:\n",
    "- `\"A\"` - any grade 90-100, inclusive\n",
    "- `\"B\"` - any grade 80-89, inclusive\n",
    "- `\"C\"` - any grade 70-79, inclusive\n",
    "- `\"D\"` - any grade 60-69, inclusive\n",
    "- `\"F\"` - any grade <60\n",
    "\n",
    "Write a function `get_grade()` that takes as input:\n",
    "- `score` - an integer 0-100 corresponding to a numerical grade\n",
    "\n",
    "It should return a Python string with the letter grade that it corresponds to.  For instance,\n",
    "- A score of 85 corresponds to a B grade.  In other words, `get_grade(85)` should return `\"B\"`.\n",
    "- A score of 49 corresponds to an F grade.  In other words, `get_grade(49)` should return `\"F\"`.\n",
    "\n",
    "Make sure that when supplying the grade that is returned by the function, it is enclosed in quotes.  (For instance, if you want to return `\"A\"`, you should write `return \"A\"` and not `return A`.)"
   ]
  },
  {
   "cell_type": "code",
   "execution_count": 2,
   "id": "163952db",
   "metadata": {
    "execution": {
     "iopub.execute_input": "2023-06-14T13:06:37.926129Z",
     "iopub.status.busy": "2023-06-14T13:06:37.925713Z",
     "iopub.status.idle": "2023-06-14T13:06:37.938568Z",
     "shell.execute_reply": "2023-06-14T13:06:37.937211Z"
    },
    "papermill": {
     "duration": 0.022928,
     "end_time": "2023-06-14T13:06:37.941654",
     "exception": false,
     "start_time": "2023-06-14T13:06:37.918726",
     "status": "completed"
    },
    "tags": []
   },
   "outputs": [
    {
     "data": {
      "application/javascript": [
       "parent.postMessage({\"jupyterEvent\": \"custom.exercise_interaction\", \"data\": {\"outcomeType\": 1, \"valueTowardsCompletion\": 0.2, \"interactionType\": 1, \"questionType\": 2, \"questionId\": \"1_GetGrade\", \"learnToolsVersion\": \"0.3.4\", \"failureMessage\": \"\", \"exceptionClass\": \"\", \"trace\": \"\"}}, \"*\")"
      ],
      "text/plain": [
       "<IPython.core.display.Javascript object>"
      ]
     },
     "metadata": {},
     "output_type": "display_data"
    },
    {
     "data": {
      "text/markdown": [
       "<span style=\"color:#33cc33\">Correct</span>"
      ],
      "text/plain": [
       "Correct"
      ]
     },
     "metadata": {},
     "output_type": "display_data"
    }
   ],
   "source": [
    "# TODO: Edit the function to return the correct grade for different scores\n",
    "def get_grade(score):\n",
    "    if score >= 90:\n",
    "        grade = \"A\"\n",
    "    elif score >= 80:\n",
    "        grade = \"B\"\n",
    "    elif score >= 70:\n",
    "        grade = \"C\"\n",
    "    elif score >= 60:\n",
    "        grade = \"D\"\n",
    "    else:\n",
    "        grade = \"F\"\n",
    "    return grade\n",
    "# Check your answer\n",
    "q1.check()"
   ]
  },
  {
   "cell_type": "code",
   "execution_count": 3,
   "id": "0eb146cf",
   "metadata": {
    "execution": {
     "iopub.execute_input": "2023-06-14T13:06:37.956162Z",
     "iopub.status.busy": "2023-06-14T13:06:37.955767Z",
     "iopub.status.idle": "2023-06-14T13:06:37.960790Z",
     "shell.execute_reply": "2023-06-14T13:06:37.959139Z"
    },
    "papermill": {
     "duration": 0.015245,
     "end_time": "2023-06-14T13:06:37.963284",
     "exception": false,
     "start_time": "2023-06-14T13:06:37.948039",
     "status": "completed"
    },
    "tags": []
   },
   "outputs": [],
   "source": [
    "# Uncomment to see a hint\n",
    "#q1.hint()\n",
    "\n",
    "# Uncomment to see the solution\n",
    "#q1.solution()"
   ]
  },
  {
   "cell_type": "markdown",
   "id": "49360dd6",
   "metadata": {
    "papermill": {
     "duration": 0.005919,
     "end_time": "2023-06-14T13:06:37.975683",
     "exception": false,
     "start_time": "2023-06-14T13:06:37.969764",
     "status": "completed"
    },
    "tags": []
   },
   "source": [
    "# Question 2\n",
    "\n",
    "In the exercise for the previous lesson, you wrote a function `cost_of_project()` that estimated the price of rings for an online shop that sells rings with custom engravings.  This function did not use conditional statements.  In this exercise, you will rewrite the function to use conditional statements.  Recall that the online shop has the following price structure:\n",
    "- Gold plated rings have a base cost of \\\\$50, and you charge \\\\$7 per engraved unit.  \n",
    "- Solid gold rings have a base cost of \\\\$100, and you charge \\\\$10 per engraved unit.\n",
    "- Spaces and punctuation are counted as engraved units.\n",
    "\n",
    "Your function `cost_of_project()` takes two arguments:\n",
    "- `engraving` - a Python string with the text of the engraving\n",
    "- `solid_gold` - a Boolean that indicates whether the ring is solid gold\n",
    "\n",
    "It should return the cost of the project.  \n",
    "\n",
    "The function has been partially completed for you, and you need to fill in the blanks to complete the function."
   ]
  },
  {
   "cell_type": "code",
   "execution_count": 4,
   "id": "c39ad694",
   "metadata": {
    "execution": {
     "iopub.execute_input": "2023-06-14T13:06:37.989542Z",
     "iopub.status.busy": "2023-06-14T13:06:37.989199Z",
     "iopub.status.idle": "2023-06-14T13:06:37.997781Z",
     "shell.execute_reply": "2023-06-14T13:06:37.996479Z"
    },
    "papermill": {
     "duration": 0.018037,
     "end_time": "2023-06-14T13:06:37.999810",
     "exception": false,
     "start_time": "2023-06-14T13:06:37.981773",
     "status": "completed"
    },
    "tags": []
   },
   "outputs": [
    {
     "data": {
      "application/javascript": [
       "parent.postMessage({\"jupyterEvent\": \"custom.exercise_interaction\", \"data\": {\"outcomeType\": 1, \"valueTowardsCompletion\": 0.2, \"interactionType\": 1, \"questionType\": 2, \"questionId\": \"2_CostProjectPartDeux\", \"learnToolsVersion\": \"0.3.4\", \"failureMessage\": \"\", \"exceptionClass\": \"\", \"trace\": \"\"}}, \"*\")"
      ],
      "text/plain": [
       "<IPython.core.display.Javascript object>"
      ]
     },
     "metadata": {},
     "output_type": "display_data"
    },
    {
     "data": {
      "text/markdown": [
       "<span style=\"color:#33cc33\">Correct</span>"
      ],
      "text/plain": [
       "Correct"
      ]
     },
     "metadata": {},
     "output_type": "display_data"
    }
   ],
   "source": [
    "def cost_of_project(engraving, solid_gold):\n",
    "    if solid_gold == True:\n",
    "        cost = 100 + len(engraving)*10\n",
    "    else:\n",
    "        cost = 50 + len(engraving)*7\n",
    "    return cost\n",
    "\n",
    "# Check your answer\n",
    "q2.check()"
   ]
  },
  {
   "cell_type": "code",
   "execution_count": 5,
   "id": "eaaa6d70",
   "metadata": {
    "execution": {
     "iopub.execute_input": "2023-06-14T13:06:38.014150Z",
     "iopub.status.busy": "2023-06-14T13:06:38.013755Z",
     "iopub.status.idle": "2023-06-14T13:06:38.018220Z",
     "shell.execute_reply": "2023-06-14T13:06:38.016903Z"
    },
    "papermill": {
     "duration": 0.014501,
     "end_time": "2023-06-14T13:06:38.020643",
     "exception": false,
     "start_time": "2023-06-14T13:06:38.006142",
     "status": "completed"
    },
    "tags": []
   },
   "outputs": [],
   "source": [
    "# Uncomment to see a hint\n",
    "#q2.hint()\n",
    "\n",
    "# Uncomment to see the solution\n",
    "#q2.solution()"
   ]
  },
  {
   "cell_type": "markdown",
   "id": "1d3f7b6d",
   "metadata": {
    "papermill": {
     "duration": 0.006367,
     "end_time": "2023-06-14T13:06:38.033927",
     "exception": false,
     "start_time": "2023-06-14T13:06:38.027560",
     "status": "completed"
    },
    "tags": []
   },
   "source": [
    "# Question 3\n",
    "\n",
    "You are a programmer at a water agency.  Recently, you have been tasked to write a function `get_water_bill()` that takes as input:\n",
    "- `num_gallons` = the number of gallons of water that a customer used that month.  (This will always be an integer with no decimal part.)\n",
    "\n",
    "It should output the water bill.  \n",
    "\n",
    "The water agency uses this pricing structure:\n",
    "<table style=\"width: 100%;\">\n",
    "<tbody>\n",
    "<tr><th><b>Tier</b></th><th><b>Amount in gallons</b></th><th><b>Price per 1000 gallons</b></th></tr>\n",
    "<tr>\n",
    "<td>Tier 1</td>\n",
    "<td>0 - 8,000</td>\n",
    "<td>\\$5</td>\n",
    "</tr>\n",
    "<tr>\n",
    "<td>Tier 2</td>\n",
    "<td>8,001 - 22,000</td>\n",
    "<td>\\$6</td>\n",
    "</tr>\n",
    "<tr>\n",
    "<td>Tier 3</td>\n",
    "<td>22,001 - 30,000</td>\n",
    "<td>\\$7</td>\n",
    "</tr>\n",
    "<tr>\n",
    "<td>Tier 4</td>\n",
    "<td>30,001+</td>\n",
    "<td>\\$10</td>\n",
    "</tr>\n",
    "</tbody>\n",
    "</table>\n",
    "\n",
    "For example: \n",
    "- Someone who uses 10,000 gallons of water in a month is placed in Tier 2, and needs to pay a water bill of \\\\$6 * 10 = \\\\$60.  In other words, `get_water_bill(10000)` should return `60.0`.\n",
    "- Someone who uses 25,000 gallons of water in a month is placed in Tier 3, and needs to pay a water bill of \\\\$7 * 25 = \\\\$175.  In other words, `get_water_bill(25000)` should return `175.0`.\n",
    "\n",
    "**Do not round your answer.**  So, your answer might return fractions of a penny."
   ]
  },
  {
   "cell_type": "code",
   "execution_count": 6,
   "id": "27095c83",
   "metadata": {
    "execution": {
     "iopub.execute_input": "2023-06-14T13:06:38.049208Z",
     "iopub.status.busy": "2023-06-14T13:06:38.048204Z",
     "iopub.status.idle": "2023-06-14T13:06:38.057516Z",
     "shell.execute_reply": "2023-06-14T13:06:38.056701Z"
    },
    "papermill": {
     "duration": 0.018941,
     "end_time": "2023-06-14T13:06:38.059271",
     "exception": false,
     "start_time": "2023-06-14T13:06:38.040330",
     "status": "completed"
    },
    "tags": []
   },
   "outputs": [
    {
     "data": {
      "application/javascript": [
       "parent.postMessage({\"jupyterEvent\": \"custom.exercise_interaction\", \"data\": {\"outcomeType\": 1, \"valueTowardsCompletion\": 0.2, \"interactionType\": 1, \"questionType\": 2, \"questionId\": \"3_GetWaterBill\", \"learnToolsVersion\": \"0.3.4\", \"failureMessage\": \"\", \"exceptionClass\": \"\", \"trace\": \"\"}}, \"*\")"
      ],
      "text/plain": [
       "<IPython.core.display.Javascript object>"
      ]
     },
     "metadata": {},
     "output_type": "display_data"
    },
    {
     "data": {
      "text/markdown": [
       "<span style=\"color:#33cc33\">Correct</span>"
      ],
      "text/plain": [
       "Correct"
      ]
     },
     "metadata": {},
     "output_type": "display_data"
    }
   ],
   "source": [
    "# TODO: Edit the function to return the correct bill for different\n",
    "# values of num_gallons\n",
    "def get_water_bill(num_gallons):\n",
    "    if num_gallons > 30000:\n",
    "        bill = num_gallons*10/1000\n",
    "    elif num_gallons > 22000:\n",
    "        bill = num_gallons*7/1000\n",
    "    elif num_gallons > 8000:\n",
    "        bill = num_gallons*6/1000\n",
    "    else:\n",
    "        bill = num_gallons*5/1000\n",
    "    return bill\n",
    "\n",
    "# Check your answer\n",
    "q3.check()"
   ]
  },
  {
   "cell_type": "code",
   "execution_count": 7,
   "id": "c5f84799",
   "metadata": {
    "execution": {
     "iopub.execute_input": "2023-06-14T13:06:38.074700Z",
     "iopub.status.busy": "2023-06-14T13:06:38.074226Z",
     "iopub.status.idle": "2023-06-14T13:06:38.079266Z",
     "shell.execute_reply": "2023-06-14T13:06:38.077757Z"
    },
    "papermill": {
     "duration": 0.015461,
     "end_time": "2023-06-14T13:06:38.081546",
     "exception": false,
     "start_time": "2023-06-14T13:06:38.066085",
     "status": "completed"
    },
    "tags": []
   },
   "outputs": [],
   "source": [
    "# Uncomment to see a hint\n",
    "#q3.hint()\n",
    "\n",
    "# Uncomment to see the solution\n",
    "#q3.solution()"
   ]
  },
  {
   "cell_type": "markdown",
   "id": "0fbe9225",
   "metadata": {
    "papermill": {
     "duration": 0.006393,
     "end_time": "2023-06-14T13:06:38.095091",
     "exception": false,
     "start_time": "2023-06-14T13:06:38.088698",
     "status": "completed"
    },
    "tags": []
   },
   "source": [
    "# Question 4\n",
    "\n",
    "You work for a company that provides data services.  For \\\\$100/month, your company provides 15 gigabytes (GB) of data.  Then, any additional data is billed at \\\\$0.10/MB (or \\\\$100/GB, since 1,000 MB are in 1 GB).\n",
    "\n",
    "Use the next code cell to write a function `get_phone_bill()` that takes as input:\n",
    "- `gb` = number of GB that the customer used in a month\n",
    "\n",
    "It should return the customer's total phone bill.\n",
    "\n",
    "For instance:\n",
    "- A customer who uses 10 GB of data in one month is billed only \\\\$100, since the usage stayed under 15 GB.  In other words, `get_phone_bill(10)` should return `100`.\n",
    "- A customer who uses 15.1 GB (or 15 GB + 100 MB) of data in one month has gone over by .1 GB, so they must pay \\\\$100 (cost of plan), plus \\\\$0.10 * 100 = \\\\$10, for a total bill of \\\\$110.  In other words, `get_phone_bill(15.1)` should return `110`.\n",
    "\n",
    "Do not round your answer."
   ]
  },
  {
   "cell_type": "code",
   "execution_count": 8,
   "id": "8e9d9d46",
   "metadata": {
    "execution": {
     "iopub.execute_input": "2023-06-14T13:06:38.110466Z",
     "iopub.status.busy": "2023-06-14T13:06:38.109753Z",
     "iopub.status.idle": "2023-06-14T13:06:38.118100Z",
     "shell.execute_reply": "2023-06-14T13:06:38.117248Z"
    },
    "papermill": {
     "duration": 0.018324,
     "end_time": "2023-06-14T13:06:38.119958",
     "exception": false,
     "start_time": "2023-06-14T13:06:38.101634",
     "status": "completed"
    },
    "tags": []
   },
   "outputs": [
    {
     "data": {
      "application/javascript": [
       "parent.postMessage({\"jupyterEvent\": \"custom.exercise_interaction\", \"data\": {\"outcomeType\": 1, \"valueTowardsCompletion\": 0.2, \"interactionType\": 1, \"questionType\": 2, \"questionId\": \"4_GetPhoneBill\", \"learnToolsVersion\": \"0.3.4\", \"failureMessage\": \"\", \"exceptionClass\": \"\", \"trace\": \"\"}}, \"*\")"
      ],
      "text/plain": [
       "<IPython.core.display.Javascript object>"
      ]
     },
     "metadata": {},
     "output_type": "display_data"
    },
    {
     "data": {
      "text/markdown": [
       "<span style=\"color:#33cc33\">Correct</span>"
      ],
      "text/plain": [
       "Correct"
      ]
     },
     "metadata": {},
     "output_type": "display_data"
    }
   ],
   "source": [
    "# TODO: Edit the function to return the correct bill for different\n",
    "# values of GB\n",
    "def get_phone_bill(gb):\n",
    "    if gb <= 15:\n",
    "        bill = 100\n",
    "    else:\n",
    "        bill = 100 + (gb-15)*100\n",
    "    return bill\n",
    "\n",
    "# Check your answer\n",
    "q4.check()"
   ]
  },
  {
   "cell_type": "code",
   "execution_count": 9,
   "id": "5ce22f97",
   "metadata": {
    "execution": {
     "iopub.execute_input": "2023-06-14T13:06:38.136126Z",
     "iopub.status.busy": "2023-06-14T13:06:38.135552Z",
     "iopub.status.idle": "2023-06-14T13:06:38.140086Z",
     "shell.execute_reply": "2023-06-14T13:06:38.138912Z"
    },
    "papermill": {
     "duration": 0.015431,
     "end_time": "2023-06-14T13:06:38.142357",
     "exception": false,
     "start_time": "2023-06-14T13:06:38.126926",
     "status": "completed"
    },
    "tags": []
   },
   "outputs": [],
   "source": [
    "# Uncomment to see a hint\n",
    "#q4.hint()\n",
    "\n",
    "# Uncomment to see the solution\n",
    "#q4.solution()"
   ]
  },
  {
   "cell_type": "markdown",
   "id": "132b0b5b",
   "metadata": {
    "papermill": {
     "duration": 0.006432,
     "end_time": "2023-06-14T13:06:38.155725",
     "exception": false,
     "start_time": "2023-06-14T13:06:38.149293",
     "status": "completed"
    },
    "tags": []
   },
   "source": [
    "# 🌶️ Question 5\n",
    "\n",
    "In Mexico, foods and beverages that are high in saturated fat, trans fat, sugar, sodium, and/or calories appear with warning labels that are designed to help consumers make healthy food choices.\n",
    "\n",
    "For instance, the [box of cookies](https://world.openfoodfacts.org/product/7501000673209/florentinas-gamesa) in the image below appears with two labels (in the upper right corner):\n",
    "- EXCESO CALORÍAS (in English, EXCESS CALORIES)\n",
    "- EXCESO AZÚCARES (in English, EXCESS SUGAR)\n",
    "\n",
    "<center><img src=\"https://storage.googleapis.com/kaggle-media/learn/images/VXYKHnM.png\" alt=\"drawing\" width=\"500\"/></center>\n",
    "\n",
    "In this question, you'll work with a function `get_labels()` that takes the nutritional details about a food item and prints the needed warning labels.  This function takes several inputs:\n",
    "- `food_type` = one of `\"solid\"` or `\"liquid\"`\n",
    "- `serving_size` = size of one serving (if solid, in grams; if liquid, in milliliters)\n",
    "- `calories_per_serving` = calories in one serving\n",
    "- `saturated_fat_g` = grams of saturated fat in one serving\n",
    "- `trans_fat_g` = grams of trans fat in one serving\n",
    "- `sodium_mg` = mg of sodium in one serving\n",
    "- `sugars_g` = grams of sugar in one serving\n",
    "\n",
    "Note that some of the code here should feel unfamiliar to you, since we have not shared the details of how some of the functions like `excess_sugar()` or `excess_saturated_fat()` work.  But at a high level, these are functions that return a value of `True` if the food is deemed to have an excess of sugar or saturated fat, respectively.  These functions are used within the `get_labels()` function, and whenever there is an excess (of sugar or saturated fat, but also of trans fat, sodium, or calories), it prints the corresponding label."
   ]
  },
  {
   "cell_type": "code",
   "execution_count": 10,
   "id": "78c1b077",
   "metadata": {
    "execution": {
     "iopub.execute_input": "2023-06-14T13:06:38.171180Z",
     "iopub.status.busy": "2023-06-14T13:06:38.170578Z",
     "iopub.status.idle": "2023-06-14T13:06:38.179868Z",
     "shell.execute_reply": "2023-06-14T13:06:38.178286Z"
    },
    "papermill": {
     "duration": 0.019844,
     "end_time": "2023-06-14T13:06:38.182047",
     "exception": false,
     "start_time": "2023-06-14T13:06:38.162203",
     "status": "completed"
    },
    "tags": []
   },
   "outputs": [],
   "source": [
    "# import functions needed to make get_labels work\n",
    "from learntools.intro_to_programming.ex4q5 import excess_sugar, excess_saturated_fat, excess_trans_fat, excess_sodium, excess_calories\n",
    "\n",
    "def get_labels(food_type, serving_size, calories_per_serving, saturated_fat_g, trans_fat_g, sodium_mg, sugars_g):\n",
    "    # Print messages based on findings\n",
    "    if excess_sugar(sugars_g, calories_per_serving) == True:\n",
    "        print(\"EXCESO AZÚCARES / EXCESS SUGAR\")\n",
    "    if excess_saturated_fat(saturated_fat_g, calories_per_serving) == True:\n",
    "        print(\"EXCESO GRASAS SATURADAS / EXCESS SATURATED FAT\")\n",
    "    if excess_trans_fat(trans_fat_g, calories_per_serving) == True:\n",
    "        print(\"EXCESO GRASAS TRANS / EXCESS TRANS FAT\")\n",
    "    if excess_sodium(calories_per_serving, sodium_mg) == True:\n",
    "        print(\"EXCESO SODIO / EXCESS SODIUM\")\n",
    "    if excess_calories(food_type, calories_per_serving, serving_size) == True:\n",
    "        print(\"EXCESO CALORÍAS / EXCESS CALORIES\")"
   ]
  },
  {
   "cell_type": "markdown",
   "id": "2152c948",
   "metadata": {
    "papermill": {
     "duration": 0.006276,
     "end_time": "2023-06-14T13:06:38.195193",
     "exception": false,
     "start_time": "2023-06-14T13:06:38.188917",
     "status": "completed"
    },
    "tags": []
   },
   "source": [
    "The next code cell demonstrates how to use `get_labels()` to get the warning labels that the food item should contain.  We begin with [bologna](https://world.openfoodfacts.org/product/4099100179378/bologna).  Here is [an image](https://storage.googleapis.com/kaggle-media/learn/images/Cfcx72e) with all of the nutritional information.  Note that for this food,\n",
    "- `food_type = \"solid\"` (because bologna is a solid and not a liquid)\n",
    "- `serving_size = 32` (the serving size is 32 grams)\n",
    "- `calories_per_serving = 110` (there are 110 calories per serving)\n",
    "- `saturated_fat_g = 2.5` (there are 2.5 grams of saturated fat per serving)\n",
    "- `trans_fat_g = 0` (there are 0 grams of trans fat per serving)\n",
    "- `sodium_mg = 400` (there are 400 mg of sodium per serving)\n",
    "- `sugars_g = 1` (the nutrition facts say <1g, but we will round it up to 1 gram per serving to be safe)\n",
    "\n",
    "By supplying all of these values to the function, we can print the warning labels."
   ]
  },
  {
   "cell_type": "code",
   "execution_count": 11,
   "id": "6bdfe686",
   "metadata": {
    "execution": {
     "iopub.execute_input": "2023-06-14T13:06:38.209893Z",
     "iopub.status.busy": "2023-06-14T13:06:38.209483Z",
     "iopub.status.idle": "2023-06-14T13:06:38.215295Z",
     "shell.execute_reply": "2023-06-14T13:06:38.213863Z"
    },
    "papermill": {
     "duration": 0.015995,
     "end_time": "2023-06-14T13:06:38.217592",
     "exception": false,
     "start_time": "2023-06-14T13:06:38.201597",
     "status": "completed"
    },
    "tags": []
   },
   "outputs": [
    {
     "name": "stdout",
     "output_type": "stream",
     "text": [
      "EXCESO GRASAS SATURADAS / EXCESS SATURATED FAT\n",
      "EXCESO SODIO / EXCESS SODIUM\n",
      "EXCESO CALORÍAS / EXCESS CALORIES\n"
     ]
    }
   ],
   "source": [
    "# bologna https://world.openfoodfacts.org/product/4099100179378/bologna\n",
    "get_labels(\"solid\", 32, 110, 2.5, 0, 400, 1)"
   ]
  },
  {
   "cell_type": "markdown",
   "id": "0cc67de1",
   "metadata": {
    "papermill": {
     "duration": 0.006762,
     "end_time": "2023-06-14T13:06:38.232020",
     "exception": false,
     "start_time": "2023-06-14T13:06:38.225258",
     "status": "completed"
    },
    "tags": []
   },
   "source": [
    "This bologna has three labels, printed in the output above.\n",
    "\n",
    "For the rest of this question, you will use the same `get_labels()` function to determine the labels for more foods.  This question is designed to help you get practice with feeling comfortable with code that other people have written, and where you don't have time to review every single line of code before interacting with it.  For instance, when you take the [Intro to Machine Learning course](http://www.kaggle.com/learn/intro-to-machine-learning), you'll work with a Python package called \"scikit-learn\", which is a large collection of code that you'll learn how to run without reviewing all of the code in detail (as it would take too long, and you can trust that it was implemented correctly).\n",
    "\n",
    "In general, as you continue coding in Python, you will often be running code that other people have written.  This is common practice for advanced programmers.\n",
    "\n",
    "In the next code cell, fill in the values for [this cereal](https://world.openfoodfacts.org/product/7501008023624/zucaritas-kellogg-s).  Here is [an image](https://storage.googleapis.com/kaggle-media/learn/images/MUxzHVU) with all of the nutritional information.\n",
    "\n",
    "**Note**: running the line of code below as-is will return an error.  You have to fill in the nutritional values first."
   ]
  },
  {
   "cell_type": "code",
   "execution_count": 12,
   "id": "710d3eb8",
   "metadata": {
    "execution": {
     "iopub.execute_input": "2023-06-14T13:06:38.248539Z",
     "iopub.status.busy": "2023-06-14T13:06:38.248147Z",
     "iopub.status.idle": "2023-06-14T13:06:38.252405Z",
     "shell.execute_reply": "2023-06-14T13:06:38.251771Z"
    },
    "papermill": {
     "duration": 0.014746,
     "end_time": "2023-06-14T13:06:38.254173",
     "exception": false,
     "start_time": "2023-06-14T13:06:38.239427",
     "status": "completed"
    },
    "tags": []
   },
   "outputs": [
    {
     "name": "stdout",
     "output_type": "stream",
     "text": [
      "EXCESO AZÚCARES / EXCESS SUGAR\n",
      "EXCESO CALORÍAS / EXCESS CALORIES\n"
     ]
    }
   ],
   "source": [
    "# zucaritas cereal https://world.openfoodfacts.org/product/7501008023624/zucaritas-kellogg-s\n",
    "# TODO: Uncomment the line below, fill in the values, and run the function\n",
    "get_labels(\"solid\", 100, 381, 0, 0, 0.872, 41)"
   ]
  },
  {
   "cell_type": "markdown",
   "id": "7cdbabbe",
   "metadata": {
    "papermill": {
     "duration": 0.006746,
     "end_time": "2023-06-14T13:06:38.268066",
     "exception": false,
     "start_time": "2023-06-14T13:06:38.261320",
     "status": "completed"
    },
    "tags": []
   },
   "source": [
    "Next, try [these mozzarella sticks](https://world-es.openfoodfacts.org/producto/0062325540104/mozzarella-cheese-sticks).  Here is [an image](https://storage.googleapis.com/kaggle-media/learn/images/rcdB7VH) with all of the nutritional information."
   ]
  },
  {
   "cell_type": "code",
   "execution_count": 13,
   "id": "7a9ef5a1",
   "metadata": {
    "execution": {
     "iopub.execute_input": "2023-06-14T13:06:38.284229Z",
     "iopub.status.busy": "2023-06-14T13:06:38.283568Z",
     "iopub.status.idle": "2023-06-14T13:06:38.289791Z",
     "shell.execute_reply": "2023-06-14T13:06:38.288660Z"
    },
    "papermill": {
     "duration": 0.016308,
     "end_time": "2023-06-14T13:06:38.291466",
     "exception": false,
     "start_time": "2023-06-14T13:06:38.275158",
     "status": "completed"
    },
    "tags": []
   },
   "outputs": [
    {
     "name": "stdout",
     "output_type": "stream",
     "text": [
      "EXCESO GRASAS SATURADAS / EXCESS SATURATED FAT\n",
      "EXCESO GRASAS TRANS / EXCESS TRANS FAT\n",
      "EXCESO SODIO / EXCESS SODIUM\n",
      "EXCESO CALORÍAS / EXCESS CALORIES\n"
     ]
    }
   ],
   "source": [
    "# mozzarella sticks https://world-es.openfoodfacts.org/producto/0062325540104/mozzarella-cheese-sticks\n",
    "# TODO: Uncomment the line below, fill in the values, and run the function\n",
    "get_labels(\"solid\",21,68,3,0.2,208,0)"
   ]
  },
  {
   "cell_type": "markdown",
   "id": "7d014640",
   "metadata": {
    "papermill": {
     "duration": 0.006443,
     "end_time": "2023-06-14T13:06:38.304905",
     "exception": false,
     "start_time": "2023-06-14T13:06:38.298462",
     "status": "completed"
    },
    "tags": []
   },
   "source": [
    "Feel free to skip to the end of the notebook now and run `q5.check()` to complete the exercise.  If you want to try more foods, \n",
    "- try [these cookies](https://world.openfoodfacts.org/product/0069700118545/biscuits-au-sucre-pretraches).  Here is [an image](https://storage.googleapis.com/kaggle-media/learn/images/2Bc271o) with all of the nutritional information.\n",
    "- try [this soda](https://world-es.openfoodfacts.org/producto/0078000113464/orange-soda-sunkist).  Here is [an image](https://storage.googleapis.com/kaggle-media/learn/images/RsBYa8E) with all of the nutritional information.\n",
    "\n",
    "Use the two code cells below for this."
   ]
  },
  {
   "cell_type": "code",
   "execution_count": 14,
   "id": "bec7d1fb",
   "metadata": {
    "execution": {
     "iopub.execute_input": "2023-06-14T13:06:38.320316Z",
     "iopub.status.busy": "2023-06-14T13:06:38.319614Z",
     "iopub.status.idle": "2023-06-14T13:06:38.323493Z",
     "shell.execute_reply": "2023-06-14T13:06:38.322781Z"
    },
    "papermill": {
     "duration": 0.013825,
     "end_time": "2023-06-14T13:06:38.325324",
     "exception": false,
     "start_time": "2023-06-14T13:06:38.311499",
     "status": "completed"
    },
    "tags": []
   },
   "outputs": [],
   "source": [
    "# pillsbury cookies https://world.openfoodfacts.org/product/0069700118545/biscuits-au-sucre-pretraches\n",
    "# TODO: Uncomment the line below, fill in the values, and run the function\n",
    "#get_labels()"
   ]
  },
  {
   "cell_type": "code",
   "execution_count": 15,
   "id": "9dbab441",
   "metadata": {
    "execution": {
     "iopub.execute_input": "2023-06-14T13:06:38.341187Z",
     "iopub.status.busy": "2023-06-14T13:06:38.340463Z",
     "iopub.status.idle": "2023-06-14T13:06:38.344873Z",
     "shell.execute_reply": "2023-06-14T13:06:38.343597Z"
    },
    "papermill": {
     "duration": 0.014312,
     "end_time": "2023-06-14T13:06:38.346581",
     "exception": false,
     "start_time": "2023-06-14T13:06:38.332269",
     "status": "completed"
    },
    "tags": []
   },
   "outputs": [],
   "source": [
    "# sunkist orange soda https://world-es.openfoodfacts.org/producto/0078000113464/orange-soda-sunkist\n",
    "# TODO: Uncomment the line below, fill in the values, and run the function\n",
    "#get_labels()"
   ]
  },
  {
   "cell_type": "markdown",
   "id": "5afe6d37",
   "metadata": {
    "papermill": {
     "duration": 0.006379,
     "end_time": "2023-06-14T13:06:38.359700",
     "exception": false,
     "start_time": "2023-06-14T13:06:38.353321",
     "status": "completed"
    },
    "tags": []
   },
   "source": [
    "Once you have finished investigating the food items in this question, run the final code cell to get credit for completing this problem."
   ]
  },
  {
   "cell_type": "code",
   "execution_count": 16,
   "id": "88ba7579",
   "metadata": {
    "execution": {
     "iopub.execute_input": "2023-06-14T13:06:38.374521Z",
     "iopub.status.busy": "2023-06-14T13:06:38.374088Z",
     "iopub.status.idle": "2023-06-14T13:06:38.382193Z",
     "shell.execute_reply": "2023-06-14T13:06:38.381277Z"
    },
    "papermill": {
     "duration": 0.017793,
     "end_time": "2023-06-14T13:06:38.384015",
     "exception": false,
     "start_time": "2023-06-14T13:06:38.366222",
     "status": "completed"
    },
    "tags": []
   },
   "outputs": [
    {
     "data": {
      "application/javascript": [
       "parent.postMessage({\"jupyterEvent\": \"custom.exercise_interaction\", \"data\": {\"outcomeType\": 1, \"valueTowardsCompletion\": 0.2, \"interactionType\": 1, \"questionType\": 2, \"questionId\": \"5_GetLabels\", \"learnToolsVersion\": \"0.3.4\", \"failureMessage\": \"\", \"exceptionClass\": \"\", \"trace\": \"\"}}, \"*\")"
      ],
      "text/plain": [
       "<IPython.core.display.Javascript object>"
      ]
     },
     "metadata": {},
     "output_type": "display_data"
    },
    {
     "data": {
      "text/markdown": [
       "<span style=\"color:#33cc33\">Once you have determined the labels for all of the food items, you're ready to move on to the next lesson!</span>"
      ],
      "text/plain": [
       "Once you have determined the labels for all of the food items, you're ready to move on to the next lesson!"
      ]
     },
     "metadata": {},
     "output_type": "display_data"
    }
   ],
   "source": [
    "# Get credit for completing the problem\n",
    "q5.check()"
   ]
  },
  {
   "cell_type": "markdown",
   "id": "68256ae9",
   "metadata": {
    "papermill": {
     "duration": 0.006975,
     "end_time": "2023-06-14T13:06:38.398519",
     "exception": false,
     "start_time": "2023-06-14T13:06:38.391544",
     "status": "completed"
    },
    "tags": []
   },
   "source": [
    "# Keep going\n",
    "\n",
    "Continue to the next lesson to **[learn about Python lists](https://www.kaggle.com/alexisbcook/intro-to-lists)**."
   ]
  },
  {
   "cell_type": "markdown",
   "id": "a862ce39",
   "metadata": {
    "papermill": {
     "duration": 0.007103,
     "end_time": "2023-06-14T13:06:38.412933",
     "exception": false,
     "start_time": "2023-06-14T13:06:38.405830",
     "status": "completed"
    },
    "tags": []
   },
   "source": [
    "---\n",
    "\n",
    "\n",
    "\n",
    "\n",
    "*Have questions or comments? Visit the [course discussion forum](https://www.kaggle.com/learn/intro-to-programming/discussion) to chat with other learners.*"
   ]
  }
 ],
 "metadata": {
  "kernelspec": {
   "display_name": "Python 3",
   "language": "python",
   "name": "python3"
  },
  "language_info": {
   "codemirror_mode": {
    "name": "ipython",
    "version": 3
   },
   "file_extension": ".py",
   "mimetype": "text/x-python",
   "name": "python",
   "nbconvert_exporter": "python",
   "pygments_lexer": "ipython3",
   "version": "3.10.10"
  },
  "papermill": {
   "default_parameters": {},
   "duration": 11.529299,
   "end_time": "2023-06-14T13:06:39.643709",
   "environment_variables": {},
   "exception": null,
   "input_path": "__notebook__.ipynb",
   "output_path": "__notebook__.ipynb",
   "parameters": {},
   "start_time": "2023-06-14T13:06:28.114410",
   "version": "2.4.0"
  }
 },
 "nbformat": 4,
 "nbformat_minor": 5
}
